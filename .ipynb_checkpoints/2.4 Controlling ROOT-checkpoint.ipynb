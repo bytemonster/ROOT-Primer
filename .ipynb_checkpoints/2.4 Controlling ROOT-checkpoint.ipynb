{
 "cells": [
  {
   "cell_type": "markdown",
   "metadata": {},
   "source": [
    "One more remark at this point: as every command you type into ROOT is usually interpreted by Cling, an “escape character” is needed to pass commands to ROOT directly. This character is the dot at the beginning of a line: \n",
    "\n",
    "``` root [1] .<command>```\n",
    "\n",
    "This is a selection of the most common commands.\n",
    "  * **quit root**, simply type ```.q```\n",
    "  \n",
    "  * obtain a **list of commands**, use ```.?```\n",
    "  \n",
    "  * **access the shell** of the operating system, type ```.!<OS_command>```; try, e.g. ```.!ls``` or ```.!pwd```\n",
    "  \n",
    "  * **execute a macro**, enter ```.x <file_name>```; in the above example, you might have used ```.x slits.C``` at the ROOT prompt\n",
    "  \n",
    "  * **load a macro**, type ```.L <file_name>```; in the above example, you might instead have used the command ```.L slits.C``` followed by the function call ```slits();```. Note that after loading a macro all functions and procedures defined therein are available at the ROOT prompt.\n",
    "  \n",
    "    * **compile a macro**, type ```.L <file_name>+```; ROOT is able to manage for you the ```C++``` compiler behind the scenes and to produce machine code starting from your macro. One could decide to compile a macro in order to obtain better performance or to get nearer to the production environment.\n",
    "\n",
    "\n",
    "Use ```.help``` at the prompt to inspect the full list."
   ]
  }
 ],
 "metadata": {
  "kernelspec": {
   "display_name": "ROOT C++",
   "language": "c++",
   "name": "root"
  },
  "language_info": {
   "codemirror_mode": "text/x-c++src",
   "file_extension": ".C",
   "mimetype": " text/x-c++src",
   "name": "c++"
  }
 },
 "nbformat": 4,
 "nbformat_minor": 0
}
