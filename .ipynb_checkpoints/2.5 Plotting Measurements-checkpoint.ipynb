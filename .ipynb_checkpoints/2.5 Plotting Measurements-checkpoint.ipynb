{
 "cells": [
  {
   "cell_type": "markdown",
   "metadata": {},
   "source": [
    "To display measurements in ROOT, including errors, there exists a powerful class ```TGraphErrors``` with different types of constructors. In the example here, we use data from the file ```ExampleData.txt``` in text format:"
   ]
  },
  {
   "cell_type": "code",
   "execution_count": 1,
   "metadata": {
    "collapsed": true
   },
   "outputs": [],
   "source": [
    "TCanvas c;\n",
    "TGraphErrors gr(\"../data/ExampleData.txt\");\n",
    "gr.Draw(\"AP\");"
   ]
  },
  {
   "cell_type": "code",
   "execution_count": 2,
   "metadata": {
    "collapsed": false
   },
   "outputs": [
    {
     "data": {
      "image/png": "[encoded data removed]",
      "text/plain": [
       "<IPython.core.display.Image object>"
      ]
     },
     "metadata": {},
     "output_type": "display_data"
    }
   ],
   "source": [
    "c.Draw();"
   ]
  },
  {
   "cell_type": "markdown",
   "metadata": {},
   "source": [
    "Make sure the file ```ExampleData.txt``` is available in the directory from which you started ROOT. Inspect this file now with your favourite editor, or use the command ```less ExampleData.txt``` to inspect the file, you will see something like that:\n",
    "\n",
    "```\n",
    "# fake data to demonstrate the use of TGraphErrors\n",
    "\n",
    "# x    y    ex    ey\n",
    "  1.   0.4  0.1   0.05\n",
    "  1.3  0.3  0.05  0.1\n",
    "  1.7  0.5  0.15  0.1\n",
    "  1.9  0.7  0.05  0.1\n",
    "  2.3  1.3  0.07  0.1\n",
    "  2.9  1.5  0.2   0.1\n",
    "```\n",
    "\n",
    "The format is very simple and easy to understand. Lines beginning with ```#``` are ignored. It is very convenient to add some comments about the type of data. The data itself consist of lines with four real numbers each, representing the x- and y- coordinates and their errors of each data point.\n",
    "\n",
    "The argument of the method ```Draw(\"AP\")``` is important here. Behind the scenes, it tells the TGraphPainter class to show the axes and to plot markers at the x and y positions of the specified data points. Note that this simple example relies on the default settings of ROOT, concerning the size of the canvas holding the plot, the marker type and the line colours and thickness used and so on. In a well-written, complete example, all this would need to be specified explicitly in order to obtain nice and well readable results. A full chapter on graphs will explain many more of the features of the class ```TGraphErrors``` and its relation to other ROOT classes in much more detail."
   ]
  }
 ],
 "metadata": {
  "kernelspec": {
   "display_name": "ROOT C++",
   "language": "c++",
   "name": "root"
  },
  "language_info": {
   "codemirror_mode": "text/x-c++src",
   "file_extension": ".C",
   "mimetype": " text/x-c++src",
   "name": "c++"
  }
 },
 "nbformat": 4,
 "nbformat_minor": 0
}
