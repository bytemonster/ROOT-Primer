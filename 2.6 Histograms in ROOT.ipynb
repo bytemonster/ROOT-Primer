{
 "cells": [
  {
   "cell_type": "markdown",
   "metadata": {},
   "source": [
    "Frequency distributions in ROOT are handled by a set of classes derived from the histogram class ```TH1```, in our case ```TH1F```. The letter F stands for float, meaning that the data type ```float``` is used to store the entries in one histogram bin."
   ]
  },
  {
   "cell_type": "code",
   "execution_count": 1,
   "metadata": {
    "collapsed": true
   },
   "outputs": [],
   "source": [
    "TCanvas c;\n",
    "TF1 efunc(\"efunc\",\"exp([0]+[1]*x)\",0.,5.);\n",
    "efunc.SetParameter(0,1);\n",
    "efunc.SetParameter(1,-1);"
   ]
  },
  {
   "cell_type": "markdown",
   "metadata": {},
   "source": [
    "The first lines of this example define a function, an exponential in this case, and set its parameters. "
   ]
  },
  {
   "cell_type": "code",
   "execution_count": 2,
   "metadata": {
    "collapsed": true
   },
   "outputs": [],
   "source": [
    "TH1F h(\"h\",\"example histogram\",100,0.,5.);"
   ]
  },
  {
   "cell_type": "markdown",
   "metadata": {},
   "source": [
    "In this line a histogram is instantiated, with a name, a title, a certain number of bins (100 of them, equidistant, equally sized) in the range from 0 to 5."
   ]
  },
  {
   "cell_type": "code",
   "execution_count": 3,
   "metadata": {
    "collapsed": false
   },
   "outputs": [
    {
     "data": {
      "image/png": "[encoded data removed]",
      "text/plain": [
       "<IPython.core.display.Image object>"
      ]
     },
     "metadata": {},
     "output_type": "display_data"
    }
   ],
   "source": [
    "for (int i=0;i<1000;i++) {h.Fill(efunc.GetRandom());}\n",
    " h.Draw();\n",
    "c.Draw();"
   ]
  },
  {
   "cell_type": "markdown",
   "metadata": {},
   "source": [
    "We use yet another new feature of ROOT to fill this histogram with data, namely pseudo-random numbers generated with the method ```TF1::GetRandom```, which in turn uses an instance of the ROOT class ```TRandom``` created when ROOT is started. Data is entered in the histogram at line 4 using the method ```TH1F::Fill``` in a loop construct. As a result, the histogram is filled with 1000 random numbers distributed according to the defined function. The histogram is displayed using the method ```TH1F::Draw()```. You may think of this example as repeated measurements of the life time of a quantum mechanical state, which are entered into the histogram, thus giving a visual impression of the probability density distribution. The plot is shown above.\n",
    "\n",
    "Note that you will not obtain an identical plot when executing the lines above, depending on how the random number generator is initialised.\n",
    "\n",
    "The class ```TH1F``` does not contain a convenient input format from plain text files. The following lines of ```C++``` code do the job. One number per line stored in the text file “expo.dat” is read in via an input stream and filled in the histogram until end of file is reached."
   ]
  },
  {
   "cell_type": "code",
   "execution_count": 4,
   "metadata": {
    "collapsed": false
   },
   "outputs": [
    {
     "data": {
      "image/png": "[encoded data removed]",
      "text/plain": [
       "<IPython.core.display.Image object>"
      ]
     },
     "metadata": {},
     "output_type": "display_data"
    },
    {
     "name": "stderr",
     "output_type": "stream",
     "text": [
      "Warning in <TROOT::Append>: Replacing existing TH1: h (Potential memory leak).\n"
     ]
    }
   ],
   "source": [
    "TH1F m(\"h\",\"example histogram\",100,0.,5.);\n",
    "ifstream inp; \n",
    "double x;\n",
    "inp.open(\"expo.dat\");\n",
    "while (inp >> x) { m.Fill(x); }\n",
    "m.Draw();\n",
    "inp.close();\n",
    "c.Draw();"
   ]
  },
  {
   "cell_type": "code",
   "execution_count": null,
   "metadata": {
    "collapsed": true
   },
   "outputs": [],
   "source": []
  }
 ],
 "metadata": {
  "kernelspec": {
   "display_name": "ROOT C++",
   "language": "c++",
   "name": "root"
  },
  "language_info": {
   "codemirror_mode": "text/x-c++src",
   "file_extension": ".C",
   "mimetype": " text/x-c++src",
   "name": "c++"
  }
 },
 "nbformat": 4,
 "nbformat_minor": 0
}
