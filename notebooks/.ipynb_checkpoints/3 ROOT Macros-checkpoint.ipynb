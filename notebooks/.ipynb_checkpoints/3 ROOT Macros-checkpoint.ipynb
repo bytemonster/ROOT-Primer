{
 "cells": [
  {
   "cell_type": "markdown",
   "metadata": {},
   "source": [
    "You know how other books go on and on about programming fundamentals and finally work up to building a complete, working program ? Let’s skip all that. In this guide, we will describe macros executed by the ROOT C++ interpreter Cling.\n",
    "\n",
    "It is relatively easy to compile a macro, either as a pre-compiled library to load into ROOT, or as a stand-alone application, by adding some include statements for header file or some “dressing code” to any macro.\n",
    "\n",
    "## 3.1 General Remarks on ROOT macros\n",
    "\n",
    "If you have a number of lines which you were able to execute at the ROOT prompt, they can be turned into a ROOT macro by giving them a name which corresponds to the file name without extension. The general structure for a macro stored in file ```MacroName.C``` is:\n",
    "\n",
    "```C++\n",
    "void MacroName() {\n",
    "        <          ...\n",
    "          your lines of C++ code\n",
    "                   ...             >\n",
    "}\n",
    "```\n",
    "\n",
    "The macro is executed by typing:\n",
    "\n",
    "```sh\n",
    " > root MacroName.C\n",
    "```\n",
    "\n",
    "at the system prompt, or executed using ```Bash .x``` at the ROOT prompt.\n",
    "\n",
    "```zsh \n",
    " > root \n",
    " root [0] .x MacroName.C\n",
    "```\n",
    "\n",
    " Or it can be loaded into a ROOT session and then be executed by typing:\n",
    " \n",
    "```sh\n",
    "root [0].L MacroName.C\n",
    "root [1] MacroName();\n",
    "```\n",
    "at the ROOT prompt.Note that more than one macro can be loaded this way, as each macro has a unique name in the ROOT name space. A small set of options can help making your plot nicer.\n",
    "\n",
    "```C++\n",
    "gROOT->SetStyle(\"Plain\");   // set plain TStyle\n",
    "gStyle->SetOptStat(111111); // draw statistics on plots,\n",
    "                            // (0) for no output\n",
    "gStyle->SetOptFit(1111);    // draw fit results on plot,\n",
    "                            // (0) for no ouput\n",
    "gStyle->SetPalette(57);     // set color map\n",
    "gStyle->SetOptTitle(0);     // suppress title box\n",
    "```\n",
    "\n",
    "Next, you should create a canvas for graphical output, with size, subdivisions and format suitable to your needs, see documentation of class ```TCanvas```:"
   ]
  },
  {
   "cell_type": "code",
   "execution_count": 1,
   "metadata": {
    "collapsed": false
   },
   "outputs": [
    {
     "data": {
      "image/png": "[encoded data removed]",
      "text/plain": [
       "<IPython.core.display.Image object>"
      ]
     },
     "metadata": {},
     "output_type": "display_data"
    }
   ],
   "source": [
    "TCanvas canvas_3_1(\"3-1-Canvas\",\"<Title>\",0,0,400,300); \n",
    "canvas_3_1.Divide(2,2); \n",
    "canvas_3_1.cd(1); \n",
    "canvas_3_1.Draw();\n",
    "\n",
    "//needs an example"
   ]
  },
  {
   "cell_type": "markdown",
   "metadata": {
    "collapsed": true
   },
   "source": [
    "These parts of a well-written macro are pretty standard, and you should remember to include pieces of code like in the examples above to make sure your plots always look as you had intended.\n",
    "\n",
    "Below, in section Interpretation and Compilation, some more code fragments will be shown, allowing you to use the system compiler to compile macros for more efficient execution, or turn macros into stand-alone applications linked against the ROOT libraries.\n",
    "\n",
    "## 3.2 A more complete example\n",
    "\n",
    "Let us now look at a rather complete example of a typical task in data analysis, a macro that constructs a graph with errors, fits a (linear) model to it and saves it as an image. To run this macro, simply type in the shell:\n",
    "\n",
    "```\n",
    " > root macro1.C\n",
    "```\n",
    "\n",
    "The code is built around the ROOT class ```TGraphErrors```, which was already introduced previously. Have a look at it in the class reference guide, where you will also find further examples. The macro shown below uses additional classes, ```TF1``` to define a function, TCanvas to define size and properties of the window used for our plot, and ```TLegend``` to add a nice legend. For the moment, ignore the commented include statements for header files, they will only become important at the end in section Interpretation and Compilation."
   ]
  },
  {
   "cell_type": "code",
   "execution_count": 2,
   "metadata": {
    "collapsed": false
   },
   "outputs": [],
   "source": [
    "%%cpp -d\n",
    "\n",
    "// Builds a graph with errors, displays it and saves it as\n",
    "// image. First, include some header files\n",
    "// (not necessary for Cling)\n",
    "\n",
    "#include \"TCanvas.h\"\n",
    "#include \"TROOT.h\"\n",
    "#include \"TGraphErrors.h\"\n",
    "#include \"TF1.h\"\n",
    "#include \"TLegend.h\"\n",
    "#include \"TArrow.h\"\n",
    "#include \"TLatex.h\"\n",
    "    \n",
    "    \n",
    "void macro1(){\n",
    "    // The values and the errors on the Y axis\n",
    "    const int n_points=10;\n",
    "    double x_vals[n_points]=\n",
    "            {1,2,3,4,5,6,7,8,9,10};\n",
    "    double y_vals[n_points]=\n",
    "            {6,12,14,20,22,24,35,45,44,53};\n",
    "    double y_errs[n_points]=\n",
    "            {5,5,4.7,4.5,4.2,5.1,2.9,4.1,4.8,5.43};\n",
    "\n",
    "    // Instance of the graph\n",
    "    TGraphErrors graph(n_points,x_vals,y_vals,nullptr,y_errs);\n",
    "    graph.SetTitle(\"Measurement XYZ;lenght [cm];Arb.Units\");\n",
    "\n",
    "    // Make the plot estetically better\n",
    "    graph.SetMarkerStyle(kOpenCircle);\n",
    "    graph.SetMarkerColor(kBlue);\n",
    "    graph.SetLineColor(kBlue);\n",
    "\n",
    "    // The canvas on which we'll draw the graph\n",
    "    auto  mycanvas = new TCanvas();\n",
    "\n",
    "    // Draw the graph !\n",
    "    graph.DrawClone(\"APE\");\n",
    "\n",
    "    // Define a linear function\n",
    "    TF1 f(\"Linear law\",\"[0]+x*[1]\",.5,10.5);\n",
    "    // Let's make the funcion line nicer\n",
    "    f.SetLineColor(kRed); f.SetLineStyle(2);\n",
    "    // Fit it to the graph and draw it\n",
    "    graph.Fit(&f);\n",
    "    f.DrawClone(\"Same\");\n",
    "\n",
    "    // Build and Draw a legend\n",
    "    TLegend leg(.1,.7,.3,.9,\"Lab. Lesson 1\");\n",
    "    leg.SetFillColor(0);\n",
    "    graph.SetFillColor(0);\n",
    "    leg.AddEntry(&graph,\"Exp. Points\");\n",
    "    leg.AddEntry(&f,\"Th. Law\");\n",
    "    leg.DrawClone(\"Same\");\n",
    "\n",
    "    // Draw an arrow on the canvas\n",
    "    TArrow arrow(8,8,6.2,23,0.02,\"|>\");\n",
    "    arrow.SetLineWidth(2);\n",
    "    arrow.DrawClone();\n",
    "\n",
    "    // Add some text to the plot\n",
    "    TLatex text(8.2,7.5,\"#splitline{Maximum}{Deviation}\");\n",
    "    text.DrawClone();\n",
    "\n",
    "    /*this command will create a pdf file with the graph in the same folder. \n",
    "    If you want to use it you can uncoment it and comment the Draw command bellow.*/\n",
    "    //mycanvas->Print(\"graph_with_law.pdf\");\n",
    "    mycanvas->Draw();\n",
    "}\n"
   ]
  },
  {
   "cell_type": "markdown",
   "metadata": {},
   "source": [
    "Let’s give a look to the obtained plot. Beautiful outcome for such a small bunch of lines, isn’t it ?\n",
    "\n",
    "Your first plot with data points, a fit of an analytical function, a legend and some additional information in the form of graphics primitives and text. A well formatted plot, clear for the reader is crucial to communicate the relevance of your results to the reader."
   ]
  },
  {
   "cell_type": "code",
   "execution_count": 3,
   "metadata": {
    "collapsed": false
   },
   "outputs": [
    {
     "name": "stdout",
     "output_type": "stream",
     "text": [
      " FCN=3.84883 FROM MIGRAD    STATUS=CONVERGED      31 CALLS          32 TOTAL\n",
      "                     EDM=5.96982e-22    STRATEGY= 1      ERROR MATRIX ACCURATE \n",
      "  EXT PARAMETER                                   STEP         FIRST   \n",
      "  NO.   NAME      VALUE            ERROR          SIZE      DERIVATIVE \n",
      "   1  p0          -1.01604e+00   3.33409e+00   1.48321e-03  -8.98235e-12\n",
      "   2  p1           5.18756e+00   5.30717e-01   2.36095e-04   9.40487e-12\n"
     ]
    },
    {
     "data": {
      "image/png": "[encoded data removed]",
      "text/plain": [
       "<IPython.core.display.Image object>"
      ]
     },
     "metadata": {},
     "output_type": "display_data"
    }
   ],
   "source": [
    "macro1();"
   ]
  },
  {
   "cell_type": "markdown",
   "metadata": {},
   "source": [
    "Let’s comment it in detail:\n",
    "\n",
    "* **Line 13:** the name of the principal function (it plays the role of the “main” function in compiled programs) in the macro file. It has to be the same as the file name without extension.\n",
    "\n",
    "* **Line 24-25:** instance of the TGraphErrors class. The constructor takes the number of points and the pointers to the arrays of x values, y values, x errors (in this case none, represented by the NULL pointer) and y errors. The second line defines in one shot the title of the graph and the titles of the two axes, separated by a “;”.\n",
    "\n",
    "* **Line 28-30:** These three lines are rather intuitive right ? To understand better the enumerators for colours and styles see the reference for the TColor and TMarker classes.\n",
    "\n",
    "* **Line 33:** the canvas object that will host the drawn objects. The “memory leak” is intentional, to make the object existing also out of the macro1 scope.\n",
    "\n",
    "* **Line 36:** the method DrawClone draws a clone of the object on the canvas. It has to be a clone, to survive after the scope of macro1, and be displayed on screen after the end of the macro execution. The string option “APE” stands for:\n",
    "\n",
    "  * A imposes the drawing of the Axes.\n",
    "\n",
    "  * P imposes the drawing of the graph’s markers.\n",
    "\n",
    "  * E imposes the drawing of the graph’s error bars.\n",
    "\n",
    "* **Line 39:** define a mathematical function. There are several ways to accomplish this, but in this case the constructor accepts the name of the function, the formula, and the function range.\n",
    "\n",
    "* **Line 41:** maquillage. Try to give a look to the line styles at your disposal visiting the documentation of the TLine class.\n",
    "\n",
    "* **Line 43:** fits the f function to the graph, observe that the pointer is passed. It is more interesting to look at the output on the screen to see the parameters values and other crucial information that we will learn to read at the end of this guide.\n",
    "\n",
    "* **Line 44:** again draws the clone of the object on the canvas. The “Same” option avoids the cancellation of the already drawn objects, in our case, the graph. The function f will be drawn using the same axis system defined by the previously drawn graph.\n",
    "\n",
    "* **Line 47-52:** completes the plot with a legend, represented by a TLegend instance. The constructor takes as parameters the lower left and upper right corners coordinates with respect to the total size of the canvas, assumed to be 1, and the legend header string. You can add to the legend the objects, previously drawn or not drawn, through the addEntry method. Observe how the legend is drawn at the end: looks familiar now, right ?\n",
    "\n",
    "* **Line 55-57:** defines an arrow with a triangle on the right hand side, a thickness of 2 and draws it.\n",
    "\n",
    "* **Line 60-61:** interpret a Latex string which hast its lower left corner located in the specified coordinate. The #splitline{}{} construct allows to store multiple lines in the same TLatex object.\n",
    "\n",
    "* **Line 63:** save the canvas as image. The format is automatically inferred from the file extension (it could have been eps, gif, …).\n",
    "\n",
    "## 3.3 Summary of Visual effects\n",
    "\n",
    "### 3.3.1 Colours and Graph Markers\n",
    "\n",
    "We have seen that to specify a colour, some identifiers like kWhite, kRed or kBlue can be specified for markers, lines, arrows etc. The complete summary of colours is represented by the ROOT [“colour wheel”](http://root.cern.ch/root/htmldoc/TColor.html#C02). To know more about the full story, refer to the online documentation of ```TColor```.\n",
    "\n",
    "ROOT provides several [graphics markers](http://root.cern.ch/root/htmldoc/TAttMarker.html#M2) types. Select the most suited symbols for your plot among dots, triangles, crosses or stars. An alternative set of names for the markers is available.\n",
    "\n",
    "### 3.3.2 Arrows and Lines\n",
    "\n",
    "The macro line 55 shows how to define an arrow and draw it. The class representing arrows is ```TArrow```, which inherits from ```TLine```. The constructors of lines and arrows always contain the coordinates of the endpoints. Arrows also foresee parameters to [specify their](http://root.cern.ch/root/htmldoc/TArrow.html) shapes. Do not underestimate the role of lines and arrows in your plots. Since each plot should contain a message, it is convenient to stress it with additional graphics primitives.\n",
    "\n",
    "### 3.3.3 Text\n",
    "\n",
    "Also text plays a fundamental role in making the plots self-explanatory. A possibility to add text in your plot is provided by the TLatex class. The objects of this class are constructed with the coordinates of the bottom-left corner of the text and a string which contains the text itself. The real twist is that ordinary [Latex mathematical symbols](http://root.cern.ch/root/htmldoc/TLatex.html#L5) are automatically interpreted, you just need to replace the “\\” by a “#”.\n",
    "\n",
    "If [“\\” is used as control character](http://root.cern.ch/root/htmldoc/TLatex.html#L14) , then the [TMathText interface](http://root.cern.ch/root/htmldoc/TMathText.html) is invoked. It provides the plain TeX syntax and allow to access character’s set like Russian and Japenese.\n",
    "\n",
    "## 3.4 Interpretation and Compilation\n",
    "As you observed, up to now we heavily exploited the capabilities of ROOT for interpreting our code, more than compiling and then executing. This is sufficient for a wide range of applications, but you might have already asked yourself “how can this code be compiled ?”. There are two answers.\n",
    "\n",
    "### 3.4.1 Compile a Macro with ACLiC\n",
    "\n",
    "ACLiC will create for you a compiled dynamic library for your macro, without any effort from your side, except the insertion of the appropriate header files in lines 5–11. In this example, they are already included. To generate an object library from the macro code, from inside the interpreter type (please note the “+”):\n",
    "\n",
    "```sh\n",
    " root [1] .L macro1.C+\n",
    "\n",
    "```\n",
    "Once this operation is accomplished, the macro symbols will be available in memory and you will be able to execute it simply by calling from inside the interpreter:\n",
    "\n",
    "```sh\n",
    "root [2] macro1()\n",
    "```\n",
    "\n",
    "### 3.4.2 Compile a Macro with the Compiler\n",
    "\n",
    "A plethora of excellent compilers are available, both free and commercial. We will refer to the ```GCC``` compiler in the following. In this case, you have to include the appropriate headers in the code and then exploit the root-config tool for the automatic settings of all the compiler flags. root-config is a script that comes with ROOT; it prints all flags and libraries needed to compile code and link it with the ROOT libraries. In order to make the code executable stand-alone, an entry point for the operating system is needed, in C++ this is the procedure ```int main();```. The easiest way to turn a ROOT macro code into a stand-alone application is to add the following “dressing code” at the end of the macro file. This defines the procedure main, the only purpose of which is to call your macro:\n",
    "\n",
    "```C++\n",
    "int main() {\n",
    "  ExampleMacro();\n",
    "  return 0;\n",
    "}\n",
    "```\n",
    "\n",
    "To create a stand-alone program from a macro called ```ExampleMacro.C```, simply type\n",
    "\n",
    "```sh\n",
    " > g++ -o ExampleMacro ExampleMacro.C `root-config --cflags --libs`\n",
    "```\n",
    "\n",
    "and execute it by typing:\n",
    "\n",
    "```sh\n",
    " > ./ExampleMacro\n",
    "```\n",
    "\n",
    "This procedure will, however, not give access to the ROOT graphics, as neither control of mouse or keyboard events nor access to the graphics windows of ROOT is available. If you want your stand-alone application have display graphics output and respond to mouse and keyboard, a slightly more complex piece of code can be used. In the example below, a macro ```ExampleMacro_GUI``` is executed by the ROOT class ```TApplication```. As a additional feature, this code example offers access to parameters eventually passed to the program when started from the command line. Here is the code fragment:"
   ]
  },
  {
   "cell_type": "code",
   "execution_count": 4,
   "metadata": {
    "collapsed": true
   },
   "outputs": [],
   "source": [
    "%%cpp -d\n",
    "/*\n",
    " This piece of code demonstrates how a root macro is used as a standalone\n",
    "    application with full acces the grapical user interface (GUI) of ROOT   */\n",
    "\n",
    "//     ==>>  put the code of your macro here\n",
    "void ExampleMacro_GUI() {\n",
    "  // Create a histogram, fill it with random gaussian numbers\n",
    "  TH1F *histogram_3_1 = new TH1F (\"histogram_3_1\", \"example histogram\", 100, -5.,5.);\n",
    "  histogram_3_1->FillRandom(\"gaus\",1000);\n",
    "  \n",
    "  auto  mycanvas = new TCanvas();\n",
    "  // draw the histogram\n",
    "  histogram_3_1->DrawClone();\n",
    "  \n",
    "/* - Create a new ROOT file for output\n",
    "   - Note that this file may contain any kind of ROOT objects, histograms,\n",
    "     pictures, graphics objects etc.\n",
    "   - the new file is now becoming the current directory */\n",
    "  TFile *file_3_1 = new TFile(\"ExampleMacro.root\",\"RECREATE\",\"ExampleMacro\");\n",
    "\n",
    "  // write Histogram to current directory (i.e. the file just opened)\n",
    "  histogram_3_1->Write();\n",
    "\n",
    "  // Close the file.\n",
    "  //   (You may inspect your histogram in the file using the TBrowser class)\n",
    "  file_3_1->Close();\n",
    "  \n",
    "  mycanvas->Draw();\n",
    "}\n",
    "\n",
    "\n",
    "void StandaloneApplication() {\n",
    "  // ==>> this application calls the ROOT macro\n",
    "  ExampleMacro_GUI();\n",
    "}"
   ]
  },
  {
   "cell_type": "code",
   "execution_count": 5,
   "metadata": {
    "collapsed": false
   },
   "outputs": [
    {
     "data": {
      "image/png": "[encoded data removed]",
      "text/plain": [
       "<IPython.core.display.Image object>"
      ]
     },
     "metadata": {},
     "output_type": "display_data"
    }
   ],
   "source": [
    "StandaloneApplication();"
   ]
  },
  {
   "cell_type": "markdown",
   "metadata": {},
   "source": [
    "Compile the code with:\n",
    "\n",
    "``` > g++ -o ExampleMacro_GUI ExampleMacro_GUI 'root-config --cflags --libs' ```\n",
    "\n",
    "and execute the program with\n",
    "\n",
    "``` > ./ExampleMacro_GUI ```"
   ]
  }
 ],
 "metadata": {
  "kernelspec": {
   "display_name": "ROOT C++",
   "language": "c++",
   "name": "root"
  },
  "language_info": {
   "codemirror_mode": "text/x-c++src",
   "file_extension": ".C",
   "mimetype": " text/x-c++src",
   "name": "c++"
  }
 },
 "nbformat": 4,
 "nbformat_minor": 0
}
