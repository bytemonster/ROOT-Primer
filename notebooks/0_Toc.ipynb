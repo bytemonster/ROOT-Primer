{
 "cells": [
  {
   "cell_type": "markdown",
   "metadata": {},
   "source": [
    "1. [Motivation and Introduction](/1-Motivation-and-Introduction.html)\n",
    "2. [ROOT Basics](/2-ROOT-Basics.html)\n",
    "    * 2.1 [ROOT as calculator]( /2-ROOT-Basics.html#2.1-ROOT-as-calculator)\n",
    "    * 2.2 [Learn C++ at the ROOT prompt]( /2-ROOT-Basics.html#2.2-Learn-C++-at-the-ROOT-prompt)\n",
    "    * 2.3 [ROOT as function plotter]( /notebooks/notebooks/2-ROOT-Basics.html#2.3-ROOT-as-function-plotter)\n",
    "    * 2.4 [Controlling ROOT]( /2-ROOT-Basics.html#2.4Controlling-ROOT)\n",
    "    * 2.5 [Plotting Measurements]( /2-ROOT-Basics.html#2.5-Plotting-Measurements)\n",
    "    * 2.6 [Histograms in ROOT]( /2-ROOT-Basics.html#2.6-Histograms-in-ROOT)\n",
    "    * 2.7 [Interactive ROOT]( /2-ROOT-Basics.html#2.7-Interactive-ROOT)\n",
    "    * 2.8 [ROOT Beginners’ FAQ]( /2-ROOT-Basics.html#2.8-ROOT-Beginners’-FAQ)\n",
    "        * 2.8.1 [ROOT type declarations for basic data types]( /2-ROOT-Basics.html#2.8.1-ROOT-type-declarations-for-basic-data-types)\n",
    "        * 2.8.2 [Configure ROOT at start-up]( /2-ROOT-Basics.html#2.8.2-Configure-ROOT-at-start-up)\n",
    "        * 2.8.2 [ROOT command history]( /2-ROOT-Basics.html#2.8.3-ROOT-command-history)\n",
    "        * 2.8.3 [ROOT Global Pointers]( /2-ROOT-Basics.html#2.8.4-ROOT-Global-Pointers)\n",
    "3. [Root Macros]( /3-ROOT-Macros.html)\n",
    "    * 3.1 [General Remarks on ROOT macros]( /3-ROOT-Macros.html#3.1-General-Remarks-on-ROOT-macros)\n",
    "    * * 3.2 [A more complete example]( /3-ROOT-Macros.html#3.2-A-more-complete-example)\n",
    "    * 3.3 [Summary of Visual effects]( /3-ROOT-Macros.html#3.3-Summary-of-Visual-effects)\n",
    "        * * * 3.3.1 [Colours and Graph Markers]( /3-ROOT-Macros.html#3.3.1-Colours-and-Graph-Markers)\n",
    "        * * 3.3.2 [Arrows and Lines]( /3-ROOT-Macros.html#3.3.2-Arrows-and-Lines)\n",
    "        * 3.3.3 [Text]( /3-ROOT-Macros.html#3.3.3-Text)\n",
    "    * 3.4 [Interpretation and Compilation]( /3-ROOT-Macros.html#3.4-Interpretation-and-Compilation)\n",
    "        * * * 3.4.1 [Compile a Macro with ACLiC]( /3-ROOT-Macros.html#3.4.1-Compile-a-Macro-with-ACLiC)\n",
    "        * * 3.4.2 [Compile a Macro with the Compiler]( /3-ROOT-Macros.html#3.4.2-Compile-a-Macro-with-the-Compiler)\n",
    "4. [Graphs]( /4-Graphs.html)\n",
    "    * 4.1 [Read Graph Points from File]( /4-Graphs.html#4.1-Read-Graph-Points-from-File)\n",
    "    * 4.2 [Polar Graphs]( /4-Graphs.html#4.2-Polar-Graphs)\n",
    "    * 4.3 [2D Graphs]( /4-Graphs.html#4.3-2D-Graphs)\n",
    "    * 4.4 [Multiple graphs]( /4-Graphs.html#4.4-Multiple-graphs)\n",
    "5. [Histograms]( /5-Histograms.html)\n",
    "    * 5.1 [Your First Histogram]( /5-Histograms.html#5.1-Your-First-Histogram)\n",
    "    * 5.2 [Add and Divide Histograms]( /5-Histograms.html#5.2-Add-and-Divide-Histograms)\n",
    "    * 5.3 [Two-dimensional Histograms]( /5-Histograms.html#5.3-Two-dimensional-Histograms)\n",
    "    * 5.4 [Multiple histograms]( /5-Histograms.html#5.4-Multiple-histograms)\n",
    "6. [Functions and Parameter Estimation]( /6-Functions-and-Parameter-Estimation.html)\n",
    "    * 6.1 [Fitting Functions to Pseudo Data]( /6-Functions-and-Parameter-Estimation.html#6.1-Fitting-Functions-to-Pseudo-Data)\n",
    "    * 6.2 [Toy Monte Carlo Experiments]( /6-Functions-and-Parameter-Estimation.html#6.2-Toy-Monte-Carlo-Experiments)\n",
    "7. [File IO and Parallel Analysis]( /7-File-IO-and-Parallel-Analysis.html)\n",
    "    * 7.1 [Storing ROOT Objects]( /7-File-IO-and-Parallel-Analysis.html#7.1-Storing-ROOT-Objects)\n",
    "    * 7.2 [N-tuples in ROOT]( /7-File-IO-and-Parallel-Analysis.html#7.2-N-tuples-in-ROOT)\n",
    "        * 7.2.1 [Storing simple N-tuples]( /7-File-IO-and-Parallel-Analysis.html#7.2.1-Storing-simple-N-tuples)\n",
    "        * 7.2.2 [Reading N-tuples]( /7-File-IO-and-Parallel-Analysis.html#7.2.2-Reading-N-tuples)\n",
    "        * 7.2.3 [Storing Arbitrary N-tuples]( /7-File-IO-and-Parallel-Analysis.html#7.2.3-Storing-Arbitrary-N-tuples)\n",
    "        * 7.2.4 [Processing N-tuples Spanning over Several Files]( /7-File-IO-and-Parallel-Analysis.html#7.2.4-Processing-N-tuples-Spanning-over-Several-Files)\n",
    "        * 7.2.5 [For the advanced user: Processing trees with a selector script]( /7-File-IO-and-Parallel-Analysis.html#7.2.5-For-the-advanced-user:-Processing-trees-with-a-selector-script)\n",
    "        * 7.2.6 [For power-users: Multi-core processing with PROOF lite]( /7-File-IO-and-Parallel-Analysis.html#7.2.6-For-power-users:-Multi-core-processing-with-PROOF-lite)\n",
    "        * 7.2.7 [Optimisation Regarding N-tuples]( /7-File-IO-and-Parallel-Analysis.html#7.2.7-Optimisation-Regarding-N-tuples)\n",
    "8. [ROOT in Python]( /8-ROOT-in-Python.html)\n",
    "    * 8.1 [PyROOT]( /8-ROOT-in-Python.html#8.1-PyROOT)\n",
    "        * 8.1.1 [More Python- less C++]( /8-ROOT-in-Python.html#8.1.1-More-Python--less-C++)\n",
    "            * 8.1.1.1 [Customised Binning]( /8-ROOT-in-Python.html#8.1.1.1-Customised-Binning)\n",
    "    * 8.2 [Custom code: from C++ to Python]( /8-ROOT-in-Python.html#8.2-Custom-code:-from-C++-to-Python)\n",
    "9. [Concluding Remarks]( /9-Concluding-Remarks.html)\n",
    "    * 9.1 [References]( /9-Concluding-Remarks.html#9-References)"
   ]
  }
 ],
 "metadata": {
  "kernelspec": {
   "display_name": "ROOT C++",
   "language": "c++",
   "name": "root"
  },
  "language_info": {
   "codemirror_mode": "text/x-c++src",
   "file_extension": ".C",
   "mimetype": " text/x-c++src",
   "name": "c++"
  }
 },
 "nbformat": 4,
 "nbformat_minor": 0
}
