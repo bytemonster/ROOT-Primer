{
 "cells": [
  {
   "cell_type": "markdown",
   "metadata": {},
   "source": [
    "In this Chapter we will learn how to exploit some of the functionalities ROOT provides to display data exploiting the class [```TGraphErrors```](https://root.cern.ch/doc/master/classTGraphErrors.html), which you already got to know previously.\n",
    "\n",
    "## 4.1 Read Graph Points from File\n",
    "\n",
    "The fastest way in which you can fill a graph with experimental data is to use the constructor which reads data points and their errors from an ASCII file (i.e. standard text) format:\n",
    "\n",
    "``` \n",
    "TGraphErrors(const char *filename, const char *format=\"%lg %lg %lg %lg\", Option_t *option=\"\");\n",
    "```\n",
    "The format string can be:\n",
    "\n",
    "* \"%lg %lg\" read only 2 first columns into X,Y\n",
    "\n",
    "* \"%lg %lg %lg\" read only 3 first columns into X,Y and EY\n",
    "\n",
    "* \"%lg %lg %lg %lg\" read only 4 first columns into X,Y,EX,EY\n",
    "\n",
    "This approach has the nice feature of allowing the user to reuse the macro for many different data sets. Here is an example of an input file. The nice graphic result shown is produced by the macro below, which reads two such input files and uses different options to display the data points.\n",
    "\n",
    "``` \n",
    "# Measurement of Friday 26 March\n",
    "# Experiment 2 Physics Lab\n",
    "\n",
    "1   6   5\n",
    "2   12  5\n",
    "3   14  4.7\n",
    "4   20  4.5\n",
    "5   22  4.2\n",
    "6   24  5.1\n",
    "7   35  2.9\n",
    "8   45  4.1\n",
    "9   44  4.8\n",
    "10  53  5.43 ```"
   ]
  },
  {
   "cell_type": "code",
   "execution_count": 1,
   "metadata": {},
   "outputs": [],
   "source": [
    "%%cpp -d\n",
    "// Reads the points from a file and produces a simple graph.\n",
    "int macro_4_1(){\n",
    "    auto canvas_4_1=new TCanvas();\n",
    "    canvas_4_1->SetGrid();\n",
    "    \n",
    "    TGraphErrors graph_expected(\"../data/macro4_1_input_expected.txt\", \"%lg %lg %lg\");\n",
    "    graph_expected.SetTitle(\n",
    "       \"Measurement XYZ and Expectation;\"\n",
    "       \"lenght [cm];\"\n",
    "       \"Arb.Units\");\n",
    "    graph_expected.SetFillColor(kYellow);\n",
    "    graph_expected.DrawClone(\"E3AL\"); // E3 draws the band\n",
    "\n",
    "    TGraphErrors graph(\"../data/macro4_1_input.txt\",\"%lg %lg %lg\");\n",
    "    graph.SetMarkerStyle(kCircle);\n",
    "    graph.SetFillColor(0);\n",
    "    graph.DrawClone(\"PESame\");\n",
    "\n",
    "    // Draw the Legend\n",
    "    TLegend leg(.1,.7,.3,.9,\"Lab. Lesson 2\");\n",
    "    leg.SetFillColor(0);\n",
    "    leg.AddEntry(&graph_expected,\"Expected Points\");\n",
    "    leg.AddEntry(&graph,\"Measured Points\");\n",
    "    leg.DrawClone(\"Same\");\n",
    "\n",
    "    graph.Print();\n",
    "    canvas_4_1->Draw();\n",
    "    return 0;\n",
    "}"
   ]
  },
  {
   "cell_type": "code",
   "execution_count": 2,
   "metadata": {},
   "outputs": [],
   "source": [
    "macro_4_1();"
   ]
  },
  {
   "cell_type": "markdown",
   "metadata": {},
   "source": [
    "In addition to the inspection of the plot, you can check the actual contents of the graph with the [```TGraph::Print()```](https://root.cern.ch/doc/master/classTGraph.html#aaa3ad04cb8017339ac8e96543ba3b5fb) method at any time, obtaining a printout of the coordinates of data points on screen. The macro also shows us how to print a coloured band around a graph instead of error bars, quite useful for example to represent the errors of a theoretical prediction.\n",
    "\n",
    "## 4.2 Polar Graphs\n",
    "\n",
    "With ROOT you can profit from rather advanced plotting routines, like the ones implemented in the [```TPolarGraph```](https://root.cern.ch/doc/v606/classTGraphPolar.html), a class to draw graphs in polar coordinates. You can see the example macro in the following:"
   ]
  },
  {
   "cell_type": "code",
   "execution_count": 3,
   "metadata": {},
   "outputs": [],
   "source": [
    "auto canvas_4_2 = new TCanvas(\"myCanvas\",\"myCanvas\",600,600);\n",
    "Double_t rmin=0.;\n",
    "Double_t rmax=TMath::Pi()*6.;\n",
    "const Int_t npoints=1000;\n",
    "Double_t r[npoints];\n",
    "Double_t theta[npoints];\n",
    "for (Int_t ipt = 0; ipt < npoints; ipt++) {\n",
    "    r[ipt] = ipt*(rmax-rmin)/npoints+rmin;\n",
    "    theta[ipt] = TMath::Sin(r[ipt]);\n",
    "}\n",
    "TGraphPolar grP1 (npoints,r,theta);\n",
    "grP1.SetTitle(\"A Fan\");\n",
    "grP1.SetLineWidth(3);\n",
    "grP1.SetLineColor(2);\n",
    "grP1.DrawClone(\"L\");\n",
    "canvas_4_2->Draw();"
   ]
  },
  {
   "cell_type": "markdown",
   "metadata": {},
   "source": [
    "A new element was added on the canvas declaration, the size of the canvas: it is sometimes optically better to show plots in specific canvas sizes."
   ]
  },
  {
   "cell_type": "markdown",
   "metadata": {},
   "source": [
    "## 4.3 2D Graphs\n",
    "\n",
    "\n",
    "Under specific circumstances, it might be useful to plot some quantities versus two variables, therefore creating a bi-dimensional graph. Of course ROOT can help you in this task, with the [```TGraph2DErrors```](https://root.cern.ch/doc/master/classTGraph2DErrors.html) class. The following macro produces a bi-dimensional graph representing a hypothetical measurement, fits a bi-dimensional function to it and draws it together with its x and y projections. Some points of the code will be explained in detail. This time, the graph is populated with data points using random numbers, introducing a new and very important ingredient, the ROOT ```TRandom3``` random number generator using the [Mersenne Twister algorithm (Matsumoto 1997)](http://www.math.sci.hiroshima-u.ac.jp/~m-mat/MT/emt.html).\n",
    "\n",
    "Let’s go through the code, step by step to understand what is going on:"
   ]
  },
  {
   "cell_type": "markdown",
   "metadata": {},
   "source": [
    "* The instance of the random generator. You can then draw out of this instance random numbers distributed according to different probability density functions, like the Uniform one at point 2. See the on-line documentation to appreciate the full power of this ROOT feature."
   ]
  },
  {
   "cell_type": "code",
   "execution_count": 4,
   "metadata": {},
   "outputs": [],
   "source": [
    "//#1\n",
    "TRandom3 my_random_generator;"
   ]
  },
  {
   "cell_type": "markdown",
   "metadata": {},
   "source": [
    "* You are already familiar with the TF1 class. This is its two-dimensional version. At line 16 two random numbers distributed according to the TF2 formula are drawn with the method TF2::GetRandom2(double& a, double&b)."
   ]
  },
  {
   "cell_type": "code",
   "execution_count": 5,
   "metadata": {},
   "outputs": [],
   "source": [
    "//#2\n",
    "TF2 function_4_3(\"f2\",\"1000*(([0]*sin(x)/x)*([1]*sin(y)/y))+2000\",-6,6,-6,6);\n",
    "function_4_3.SetParameters(1,1);\n",
    "TGraph2DErrors dte(500);\n",
    "// Fill the 2D graph\n",
    "double rnd, x, y, z, ex, ey, ez;\n",
    "for (Int_t i=0; i<500; i++) {\n",
    "    function_4_3.GetRandom2(x,y);\n",
    "    // A random number in [-e,e]\n",
    "    rnd = my_random_generator.Uniform(-0.3,0.3);\n",
    "    z = function_4_3.Eval(x,y)*(1+rnd);\n",
    "    dte.SetPoint(i,x,y,z);\n",
    "    ex = 0.05*my_random_generator.Uniform();\n",
    "    ey = 0.05*my_random_generator.Uniform();\n",
    "    ez = fabs(z*rnd);\n",
    "    dte.SetPointError(i,ex,ey,ez);\n",
    "}"
   ]
  },
  {
   "cell_type": "markdown",
   "metadata": {},
   "source": [
    "* Fitting a 2-dimensional function just works like in the one-dimensional case, i.e. initialisation of parameters and calling of the Fit() method."
   ]
  },
  {
   "cell_type": "code",
   "execution_count": 6,
   "metadata": {},
   "outputs": [],
   "source": [
    "//#4\n",
    "// Fit function to generated data\n",
    "function_4_3.SetParameters(0.7,1.5);  // set initial values for fit\n",
    "function_4_3.SetTitle(\"Fitted 2D function\");\n",
    "dte.Fit(&function_4_3);\n",
    "// Plot the result\n",
    "auto canvas_4_3_1 = new TCanvas();\n",
    "function_4_3.SetLineWidth(1);\n",
    "function_4_3.SetLineColor(kBlue-5);"
   ]
  },
  {
   "cell_type": "markdown",
   "metadata": {},
   "source": [
    "* The Surf1 option draws the TF2 objects (but also bi-dimensional histograms) as coloured surfaces with a wire-frame on three-dimensional canvases. "
   ]
  },
  {
   "cell_type": "code",
   "execution_count": 7,
   "metadata": {},
   "outputs": [],
   "source": [
    "//#5\n",
    "TF2   *function_4_3_c = (TF2*)function_4_3.DrawClone(\"Surf1\");"
   ]
  },
  {
   "cell_type": "markdown",
   "metadata": {},
   "source": [
    "* Retrieve the axis pointer and define the axis titles."
   ]
  },
  {
   "cell_type": "code",
   "execution_count": 8,
   "metadata": {},
   "outputs": [],
   "source": [
    "//#6\n",
    "TAxis *Xaxis = function_4_3_c->GetXaxis();\n",
    "TAxis *Yaxis = function_4_3_c->GetYaxis();\n",
    "TAxis *Zaxis = function_4_3_c->GetZaxis();\n",
    "Xaxis->SetTitle(\"X Title\"); Xaxis->SetTitleOffset(1.5);\n",
    "Yaxis->SetTitle(\"Y Title\"); Yaxis->SetTitleOffset(1.5);\n",
    "Zaxis->SetTitle(\"Z Title\"); Zaxis->SetTitleOffset(1.5);"
   ]
  },
  {
   "cell_type": "markdown",
   "metadata": {},
   "source": [
    "* Draw the cloud of points on top of the coloured surface."
   ]
  },
  {
   "cell_type": "code",
   "execution_count": 9,
   "metadata": {},
   "outputs": [],
   "source": [
    "//#7\n",
    "dte.DrawClone(\"P0 Same\");\n",
    "// Make the x and y projections"
   ]
  },
  {
   "cell_type": "markdown",
   "metadata": {},
   "source": [
    "* Here you learn how to create a canvas, partition it in two sub-pads and access them. It is very handy to show multiple plots in the same window or image."
   ]
  },
  {
   "cell_type": "code",
   "execution_count": 10,
   "metadata": {},
   "outputs": [],
   "source": [
    "//#8\n",
    "auto canvas_4_3_2= new TCanvas(\"ProjCan\",\"The Projections\",1000,400);\n",
    "canvas_4_3_2->Divide(2,1);\n",
    "canvas_4_3_2->cd(1);\n",
    "dte.Project(\"x\")->Draw();\n",
    "canvas_4_3_2->cd(2);\n",
    "dte.Project(\"y\")->Draw();\n",
    "   \n",
    "canvas_4_3_2 ->Draw();"
   ]
  },
  {
   "cell_type": "markdown",
   "metadata": {
    "collapsed": true
   },
   "source": [
    "## 4.4 Multiple graphs\n",
    "\n",
    "The class [```TMultigraph```](https://root.cern.ch/doc/master/classTMultiGraph.html) allows to manipulate a set of graphs as a single entity. It is a collection of TGraph (or derived) objects. When drawn, the X and Y axis ranges are automatically computed such as all the graphs will be visible."
   ]
  },
  {
   "cell_type": "code",
   "execution_count": 11,
   "metadata": {},
   "outputs": [],
   "source": [
    "TCanvas *canvas_4_4 = new TCanvas(\"canvas_4_4\",\"multigraph\",700,500);\n",
    "canvas_4_4->SetGrid();"
   ]
  },
  {
   "cell_type": "markdown",
   "metadata": {},
   "source": [
    "Here we create the multigraph."
   ]
  },
  {
   "cell_type": "code",
   "execution_count": 12,
   "metadata": {},
   "outputs": [],
   "source": [
    "TMultiGraph *multigraph_4_4 = new TMultiGraph();\n",
    "\n",
    "// create first graph\n",
    "const Int_t n1 = 10;\n",
    "Double_t px1[] = {-0.1, 0.05, 0.25, 0.35, 0.5, 0.61,0.7,0.85,0.89,0.95};\n",
    "Double_t py1[] = {-1,2.9,5.6,7.4,9,9.6,8.7,6.3,4.5,1};\n",
    "Double_t ex1[] = {.05,.1,.07,.07,.04,.05,.06,.07,.08,.05};\n",
    "Double_t ey1[] = {.8,.7,.6,.5,.4,.4,.5,.6,.7,.8};\n",
    "TGraphErrors *error_graph_1 = new TGraphErrors(n1,px1,py1,ex1,ey1);\n",
    "error_graph_1->SetMarkerColor(kBlue);\n",
    "error_graph_1->SetMarkerStyle(21);\n",
    "multigraph_4_4->Add(error_graph_1);"
   ]
  },
  {
   "cell_type": "markdown",
   "metadata": {},
   "source": [
    "Here we create two graphs with errors and add them in the multigraph."
   ]
  },
  {
   "cell_type": "code",
   "execution_count": 13,
   "metadata": {},
   "outputs": [],
   "source": [
    "// create second graph\n",
    "const Int_t n2 = 10;\n",
    "Float_t x2[]  = {-0.28, 0.005, 0.19, 0.29, 0.45, 0.56,0.65,0.80,0.90,1.01};\n",
    "Float_t y2[]  = {2.1,3.86,7,9,10,10.55,9.64,7.26,5.42,2};\n",
    "Float_t ex2[] = {.04,.12,.08,.06,.05,.04,.07,.06,.08,.04};\n",
    "Float_t ey2[] = {.6,.8,.7,.4,.3,.3,.4,.5,.6,.7};\n",
    "TGraphErrors *error_graph_2 = new TGraphErrors(n2,x2,y2,ex2,ey2);\n",
    "error_graph_1->SetMarkerColor(kRed);\n",
    "error_graph_1->SetMarkerStyle(20);\n",
    "multigraph_4_4->Add(error_graph_1);\n",
    "\n",
    "multigraph_4_4->Draw(\"apl\");"
   ]
  },
  {
   "cell_type": "markdown",
   "metadata": {},
   "source": [
    "Here we draw the multigraph. The axis limits are computed automatically to make sure all the graphs’ points will be in range."
   ]
  },
  {
   "cell_type": "code",
   "execution_count": 14,
   "metadata": {},
   "outputs": [],
   "source": [
    "multigraph_4_4->GetXaxis()->SetTitle(\"X values\");\n",
    "multigraph_4_4->GetYaxis()->SetTitle(\"Y values\");\n",
    "\n",
    "gPad->Update();\n",
    "gPad->Modified();\n",
    "canvas_4_4->Draw();"
   ]
  }
 ],
 "metadata": {
  "kernelspec": {
   "display_name": "ROOT C++",
   "language": "c++",
   "name": "root"
  },
  "language_info": {
   "codemirror_mode": "text/x-c++src",
   "file_extension": ".C",
   "mimetype": " text/x-c++src",
   "name": "c++"
  }
 },
 "nbformat": 4,
 "nbformat_minor": 0
}
