{
 "cells": [
  {
   "cell_type": "markdown",
   "metadata": {},
   "source": [
    "# 5 Histograms\n",
    "Histograms play a fundamental role in any type of physics analysis, not only to visualise measurements but being a powerful form of data reduction. ROOT offers many classes that represent histograms, all inheriting from the [```TH1```](https://root.cern.ch/doc/master/classTH1.html) class. We will focus in this chapter on uni- and bi- dimensional histograms the bin contents of which are represented by floating point numbers the [```TH1F```](https://root.cern.ch/doc/master/classTH1F.html) and [```TH2F```](https://root.cern.ch/doc/master/classTH2F.html) classes respectively. To optimise the memory usage you might go for one byte ([```TH1C```](https://root.cern.ch/doc/master/classTH1C.html)), short ([```TH1S```](https://root.cern.ch/doc/master/classTH1S.html)), integer ([```TH1I```](https://root.cern.ch/doc/master/classTH1I.html)) or double-precision ([```TH1D```](https://root.cern.ch/doc/master/classTH1D.html)) bin-content.\n",
    "\n",
    "## 5.1 Your First Histogram\n",
    "Let’s suppose you want to measure the counts of a Geiger detector located in proximity of a radioactive source in a given time interval. This would give you an idea of the activity of your source. The count distribution in this case is a Poisson distribution. Let’s see how operatively you can fill and draw a histogram with the following example macro.\n",
    "\n",
    "The result of a counting (pseudo) experiment. Only bins corresponding to integer values are filled given the discrete nature of the poissonian distribution.\n",
    "\n",
    "Using histograms is rather simple. The main differences with respect to graphs that emerge from the example are:\n",
    "\n",
    "* In the begining the histograms have a name and a title right from the start, no predefined number of entries but a number of bins and a lower-upper range."
   ]
  },
  {
   "cell_type": "code",
   "execution_count": 1,
   "metadata": {
    "collapsed": true
   },
   "outputs": [],
   "source": [
    "%jsroot on "
   ]
  },
  {
   "cell_type": "code",
   "execution_count": 2,
   "metadata": {
    "collapsed": true
   },
   "outputs": [],
   "source": [
    "   auto cnt_r_h=new TH1F(\"count_rate\",\n",
    "                \"Count Rate;N_{Counts};# occurencies\",\n",
    "                100, // Number of Bins\n",
    "                -0.5, // Lower X Boundary\n",
    "                15.5); // Upper X Boundary\n",
    "\n",
    "    auto mean_count=3.6f;\n",
    "    TRandom3 rndgen_5_1;\n",
    "    // simulate the measurements"
   ]
  },
  {
   "cell_type": "markdown",
   "metadata": {},
   "source": [
    "* During each loop of the following for an entry is stored in the histogram through the TH1F::Fill method."
   ]
  },
  {
   "cell_type": "code",
   "execution_count": 3,
   "metadata": {
    "collapsed": true
   },
   "outputs": [],
   "source": [
    "    for (int imeas=0;imeas<400;imeas++)\n",
    "        cnt_r_h->Fill(rndgen_5_1.Poisson(mean_count));\n",
    "\n",
    "    auto canvas_5_1= new TCanvas();\n",
    "    cnt_r_h->Draw();\n",
    "\n",
    "    auto canvas_5_2= new TCanvas();"
   ]
  },
  {
   "cell_type": "markdown",
   "metadata": {},
   "source": [
    "* The histogram can be drawn also normalised, ROOT automatically takes cares of the necessary rescaling."
   ]
  },
  {
   "cell_type": "code",
   "execution_count": 4,
   "metadata": {
    "collapsed": true
   },
   "outputs": [],
   "source": [
    "    cnt_r_h->DrawNormalized();"
   ]
  },
  {
   "cell_type": "markdown",
   "metadata": {},
   "source": [
    "* This small snippet shows how easy it is to access the moments and associated errors of a histogram."
   ]
  },
  {
   "cell_type": "code",
   "execution_count": 5,
   "metadata": {
    "collapsed": false
   },
   "outputs": [],
   "source": [
    "    // Print summary\n",
    "    cout << \"Moments of Distribution:\\n\"\n",
    "         << \" - Mean     = \" << cnt_r_h->GetMean() << \" +- \"\n",
    "                             << cnt_r_h->GetMeanError() << \"\\n\"\n",
    "         << \" - Std Dev  = \" << cnt_r_h->GetStdDev() << \" +- \"\n",
    "                             << cnt_r_h->GetStdDevError() << \"\\n\"\n",
    "         << \" - Skewness = \" << cnt_r_h->GetSkewness() << \"\\n\"\n",
    "         << \" - Kurtosis = \" << cnt_r_h->GetKurtosis() << \"\\n\";\n",
    "    \n",
    "    canvas_5_1->Draw();\n",
    "    canvas_5_2->Draw();"
   ]
  },
  {
   "cell_type": "markdown",
   "metadata": {},
   "source": [
    "## 5.2 Add and Divide Histograms\n",
    "\n",
    "Quite a large number of operations can be carried out with histograms. The most useful are addition and division. In the following macro we will learn how to manage these procedures within ROOT.\n",
    "\n",
    "Some lines now need a bit of clarification:\n",
    "\n",
    "* Cling, as we know, is also able to interpret more than one function per file. In this case the format_h function simply sets up some parameters to conveniently set the line of histograms."
   ]
  },
  {
   "cell_type": "code",
   "execution_count": 6,
   "metadata": {
    "collapsed": true
   },
   "outputs": [],
   "source": [
    "%%cpp -d\n",
    "// Divide and add 1D Histograms\n",
    "\n",
    "void format_h(TH1F* h, int linecolor){\n",
    "    h->SetLineWidth(3);\n",
    "    h->SetLineColor(linecolor);\n",
    "    }"
   ]
  },
  {
   "cell_type": "code",
   "execution_count": 7,
   "metadata": {
    "collapsed": true
   },
   "outputs": [],
   "source": [
    "    auto sig_h=new TH1F(\"sig_h\",\"Signal Histo\",50,0,10);\n",
    "    auto gaus_h1=new TH1F(\"gaus_h1\",\"Gauss Histo 1\",30,0,10);\n",
    "    auto gaus_h2=new TH1F(\"gaus_h2\",\"Gauss Histo 2\",30,0,10);\n",
    "    auto bkg_h=new TH1F(\"exp_h\",\"Exponential Histo\",50,0,10);\n",
    "\n",
    "    // simulate the measurements\n",
    "    TRandom3 rndgen_5_2;"
   ]
  },
  {
   "cell_type": "markdown",
   "metadata": {},
   "source": [
    "* Here some C++ syntax for conditional statements is used to fill the histograms with different numbers of entries inside the loop."
   ]
  },
  {
   "cell_type": "code",
   "execution_count": 8,
   "metadata": {
    "collapsed": true
   },
   "outputs": [],
   "source": [
    "    for (int imeas=0; imeas<4000; imeas++){\n",
    "        bkg_h->Fill(rndgen_5_2.Exp(4));\n",
    "        if (imeas%4==0) gaus_h1->Fill(rndgen_5_2.Gaus(5,2));\n",
    "        if (imeas%4==0) gaus_h2->Fill(rndgen_5_2.Gaus(5,2));\n",
    "        if (imeas%10==0)sig_h->Fill(rndgen_5_2.Gaus(5,.5));}\n",
    "    \n",
    "    // Format Histograms\n",
    "    int i=0;\n",
    "    for (auto hist : {sig_h,bkg_h,gaus_h1,gaus_h2})\n",
    "        format_h(hist,1+i++);\n",
    "\n",
    "    // Sum\n",
    "    auto sum_h= new TH1F(*bkg_h);"
   ]
  },
  {
   "cell_type": "markdown",
   "metadata": {},
   "source": [
    "* Here the sum of two histograms. A weight, which can be negative, can be assigned to the added histogram."
   ]
  },
  {
   "cell_type": "code",
   "execution_count": 9,
   "metadata": {
    "collapsed": true
   },
   "outputs": [],
   "source": [
    "    sum_h->Add(sig_h,1.);\n",
    "    sum_h->SetTitle(\"Exponential + Gaussian;X variable;Y variable\");\n",
    "    format_h(sum_h,kBlue);\n",
    "\n",
    "    auto canvas_5_2_sum= new TCanvas();\n",
    "    sum_h->Draw(\"hist\");\n",
    "    bkg_h->Draw(\"SameHist\");\n",
    "    sig_h->Draw(\"SameHist\");\n",
    "\n",
    "    "
   ]
  },
  {
   "cell_type": "markdown",
   "metadata": {},
   "source": [
    "* The division of two histograms is rather straightforward."
   ]
  },
  {
   "cell_type": "code",
   "execution_count": 10,
   "metadata": {
    "collapsed": true
   },
   "outputs": [],
   "source": [
    "    // Divide\n",
    "    auto dividend=new TH1F(*gaus_h1);\n",
    "    dividend->Divide(gaus_h2);"
   ]
  },
  {
   "cell_type": "markdown",
   "metadata": {},
   "source": [
    "* When you draw two quantities and their ratios, it is much better if all the information is condensed in one single plot. These lines provide a skeleton to perform this operation."
   ]
  },
  {
   "cell_type": "code",
   "execution_count": 11,
   "metadata": {
    "collapsed": false,
    "scrolled": false
   },
   "outputs": [],
   "source": [
    "    // Graphical Maquillage\n",
    "    dividend->SetTitle(\";X axis;Gaus Histo 1 / Gaus Histo 2\");\n",
    "    format_h(dividend,kOrange);\n",
    "    gaus_h1->SetTitle(\";;Gaus Histo 1 and Gaus Histo 2\");\n",
    "    gStyle->SetOptStat(0);\n",
    "\n",
    "    TCanvas* canvas_5_2_divide= new TCanvas();\n",
    "    canvas_5_2_divide->Divide(1,2,0,0);\n",
    "    canvas_5_2_divide->cd(1);\n",
    "    canvas_5_2_divide->GetPad(1)->SetRightMargin(.01);\n",
    "    gaus_h1->DrawNormalized(\"Hist\");\n",
    "    gaus_h2->DrawNormalized(\"HistSame\");\n",
    "\n",
    "    canvas_5_2_divide->cd(2);\n",
    "    dividend->GetYaxis()->SetRangeUser(0,2.49);\n",
    "    canvas_5_2_divide->GetPad(2)->SetGridy();\n",
    "    canvas_5_2_divide->GetPad(2)->SetRightMargin(.01);\n",
    "    dividend->Draw();\n",
    "    \n",
    "    canvas_5_2_sum->Draw();\n",
    "    canvas_5_2_divide->Draw();"
   ]
  },
  {
   "cell_type": "markdown",
   "metadata": {},
   "source": [
    "## 5.3 Two-dimensional Histograms\n",
    "\n",
    "Two-dimensional histograms are a very useful tool, for example to inspect correlations between variables. You can exploit the bi-dimensional histogram classes provided by ROOT in a simple way. Let’s see how in this code:"
   ]
  },
  {
   "cell_type": "code",
   "execution_count": 12,
   "metadata": {
    "collapsed": false
   },
   "outputs": [],
   "source": [
    "\n",
    "// Draw a Bidimensional Histogram in many ways\n",
    "// together with its profiles and projections\n",
    "\n",
    "    gStyle->SetPalette(kBird);\n",
    "    gStyle->SetOptStat(0);\n",
    "    gStyle->SetOptTitle(0);\n",
    "\n",
    "    TH2F bidi_h(\"bidi_h\",\"2D Histo;Gaussian Vals;Exp. Vals\",\n",
    "                30,-5,5,  // X axis\n",
    "                30,0,10); // Y axis\n",
    "\n",
    "    TRandom3 rgen_5_3;\n",
    "    for (int i=0;i<500000;i++)\n",
    "        bidi_h.Fill(rgen_5_3.Gaus(0,2),10-rgen_5_3.Exp(4),.1);\n",
    "\n",
    "    auto canvas_5_3_1=new TCanvas(\"canvas_5_3\",\"canvas_5_3\",800,800);\n",
    "    canvas_5_3_1->Divide(2,2);\n",
    "    canvas_5_3_1->cd(1);bidi_h.DrawClone(\"Cont1\");\n",
    "    canvas_5_3_1->cd(2);bidi_h.DrawClone(\"Colz\");\n",
    "    canvas_5_3_1->cd(3);bidi_h.DrawClone(\"lego2\");\n",
    "    canvas_5_3_1->cd(4);bidi_h.DrawClone(\"surf3\");\n",
    "\n",
    "    // Profiles and Projections\n",
    "    auto canvas_5_3_2=new TCanvas(\"canvas_5_3_2\",\"canvas_5_3_2\",800,800);\n",
    "    canvas_5_3_2->Divide(2,2);\n",
    "    canvas_5_3_2->cd(1);bidi_h.ProjectionX()->DrawClone();\n",
    "    canvas_5_3_2->cd(2);bidi_h.ProjectionY()->DrawClone();\n",
    "    canvas_5_3_2->cd(3);bidi_h.ProfileX()->DrawClone();\n",
    "    canvas_5_3_2->cd(4);bidi_h.ProfileY()->DrawClone();\n",
    "    \n",
    "    canvas_5_3_1->Draw();\n",
    "    canvas_5_3_2->Draw();\n"
   ]
  },
  {
   "cell_type": "markdown",
   "metadata": {},
   "source": [
    "Two kinds of plots are provided within the code, the first one containing three-dimensional representations  and the second one projections and profiles of the bi-dimensional histogram.\n",
    "\n",
    "The projections and profiles of bi-dimensional histograms.\n",
    "\n",
    "When a projection is performed along the x (y) direction, for every bin along the x (y) axis, all bin contents along the y (x) axis are summed up. When a profile is performed along the x (y) direction, for every bin along the x (y) axis, the average of all the bin contents along the y (x) is calculated together with their RMS and displayed as a symbol with error bar.\n",
    "\n",
    "Correlations between the variables are quantified by the methods ```Double_t GetCovariance()``` and ```Double_t GetCorrelationFactor()```.\n",
    "\n",
    "## 5.4 Multiple histograms\n",
    "The class ```THStack``` allows to manipulate a set of histograms as a single entity. It is a collection of ```TH1``` (or derived) objects. When drawn, the X and Y axis ranges are automatically computed such as all the histograms will be visible. Several drawing option are available for both 1D and 2D histograms. The next macros shows how it looks for 2D histograms:"
   ]
  },
  {
   "cell_type": "code",
   "execution_count": 13,
   "metadata": {
    "collapsed": true
   },
   "outputs": [],
   "source": [
    "    // Example of stacked histograms using the class THStack\n",
    "   auto canvas_5_4=new TCanvas(\"canvas_5_4\",\"canvas_5_4\", 900, 700);"
   ]
  },
  {
   "cell_type": "markdown",
   "metadata": {},
   "source": [
    "* Here we create the stack."
   ]
  },
  {
   "cell_type": "code",
   "execution_count": 14,
   "metadata": {
    "collapsed": false
   },
   "outputs": [],
   "source": [
    "   THStack *stHistogram_5_4 = new THStack(\"stHistogram_5_4\",\"Stacked 2D histograms\");"
   ]
  },
  {
   "cell_type": "markdown",
   "metadata": {},
   "source": [
    "* Here we create two histograms to be added in the stack."
   ]
  },
  {
   "cell_type": "code",
   "execution_count": 15,
   "metadata": {
    "collapsed": false
   },
   "outputs": [],
   "source": [
    "   TF2 *f1 = new TF2(\"f1\",\"xygaus + xygaus(5) + xylandau(10)\",-4,4,-4,4);\n",
    "   Double_t params1[] = {130,-1.4,1.8,1.5,1, 150,2,0.5,-2,0.5, 3600,-2,0.7,-3,0.3};\n",
    "   f1->SetParameters(params1);\n",
    "   TH2F *histogram_5_4_1 = new TH2F(\"histogram_5_4_1\",\"histogram_5_4_1\",20,-4,4,20,-4,4);\n",
    "   histogram_5_4_1->SetFillColor(38);\n",
    "   histogram_5_4_1->FillRandom(\"f1\",4000);\n",
    "\n",
    "   TF2 *f2 = new TF2(\"f2\",\"xygaus + xygaus(5)\",-4,4,-4,4);\n",
    "   Double_t params2[] = {100,-1.4,1.9,1.1,2, 80,2,0.7,-2,0.5};\n",
    "   f2->SetParameters(params2);\n",
    "   TH2F *histogram_5_4_2 = new TH2F(\"histogram_5_4_2\",\"histogram_5_4_2\",20,-4,4,20,-4,4);\n",
    "   histogram_5_4_2->SetFillColor(46);\n",
    "   histogram_5_4_2->FillRandom(\"f2\",3000);"
   ]
  },
  {
   "cell_type": "markdown",
   "metadata": {},
   "source": [
    "* Here we add the histograms in the stack."
   ]
  },
  {
   "cell_type": "code",
   "execution_count": 16,
   "metadata": {
    "collapsed": false
   },
   "outputs": [],
   "source": [
    "   stHistogram_5_4->Add(histogram_5_4_1);\n",
    "   stHistogram_5_4->Add(histogram_5_4_2);"
   ]
  },
  {
   "cell_type": "markdown",
   "metadata": {},
   "source": [
    "* Finally we draw the stack as a lego plot. In which the colour distinguish the two histograms."
   ]
  },
  {
   "cell_type": "code",
   "execution_count": 17,
   "metadata": {
    "collapsed": false
   },
   "outputs": [],
   "source": [
    "   stHistogram_5_4->Draw();\n",
    "   canvas_5_4->Draw();"
   ]
  }
 ],
 "metadata": {
  "kernelspec": {
   "display_name": "ROOT C++",
   "language": "c++",
   "name": "root"
  },
  "language_info": {
   "codemirror_mode": "text/x-c++src",
   "file_extension": ".C",
   "mimetype": " text/x-c++src",
   "name": "c++"
  }
 },
 "nbformat": 4,
 "nbformat_minor": 0
}
