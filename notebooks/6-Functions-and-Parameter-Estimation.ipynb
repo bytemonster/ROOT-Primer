{
 "cells": [
  {
   "cell_type": "markdown",
   "metadata": {},
   "source": [
    "## 6.1 Fitting Functions to Pseudo Data\n",
    "In the example below, a pseudo-data set is produced and a model fitted to it.\n",
    "\n",
    "ROOT offers various minimisation algorithms to minimise a \\\\\\(\\\\chi\\^\\{2\\}\\\\\\) or a negative log-likelihood function. The default minimiser is MINUIT, a package originally implemented in the FORTRAN programming language. A C++ version is also available, MINUIT2, as well as Fumili (Silin 1983) an algorithm optimised for fitting. The minimisation algorithms can be selected using the static functions of the [```ROOT::Math::MinimizerOptions```](https://root.cern.ch/doc/v606/classROOT_1_1Math_1_1MinimizerOptions.html) class. Steering options for the minimiser, such as the convergence tolerance or the maximum number of function calls, can also be set using the methods of this class. All currently implemented minimisers are documented in the reference documentation of ROOT: have a look for example to the [```ROOT::Math::Minimizer```](https://root.cern.ch/doc/v606/classROOT_1_1Math_1_1Minimizer.html) class documentation. The complication level of the code below is intentionally a little higher than in the previous examples. \n",
    "\n",
    "Let’s go through the code, step by step to understand what is going on:\n",
    "\n",
    "* First we create a simple function to ease the make-up of lines. Remember that the class TF1 inherits from [TAttLine](https://root.cern.ch/doc/master/classTAttLine.html)."
   ]
  },
  {
   "cell_type": "code",
   "execution_count": 1,
   "metadata": {
    "collapsed": true
   },
   "outputs": [],
   "source": [
    "%%cpp -d\n",
    "void format_line(TAttLine* line,int col,int sty){\n",
    "line->SetLineWidth(5); line->SetLineColor(col);\n",
    "line->SetLineStyle(sty);}"
   ]
  },
  {
   "cell_type": "markdown",
   "metadata": {},
   "source": [
    "* Here we creat a definition of a customised function, namely a Gaussian (the “signal”) plus a parabolic function, the “background”."
   ]
  },
  {
   "cell_type": "code",
   "execution_count": 2,
   "metadata": {
    "collapsed": false
   },
   "outputs": [],
   "source": [
    "%%cpp -d\n",
    "double the_gausppar(double* vars, double* pars){\n",
    "return pars[0]*TMath::Gaus(vars[0],pars[1],pars[2])+\n",
    "pars[3]+pars[4]*vars[0]+pars[5]*vars[0]*vars[0];}"
   ]
  },
  {
   "cell_type": "markdown",
   "metadata": {},
   "source": [
    "* Some make-up for the Canvas. In particular we want that the parameters of the fit appear very clearly and nicely on the plot. "
   ]
  },
  {
   "cell_type": "code",
   "execution_count": 3,
   "metadata": {
    "collapsed": true
   },
   "outputs": [],
   "source": [
    "auto canvas_6_1=new TCanvas(\"canvas_6_1\",\"canvas_6_1\");\n",
    "gStyle->SetOptTitle(0); gStyle->SetOptStat(0);\n",
    "gStyle->SetOptFit(1111); gStyle->SetStatBorderSize(0);\n",
    "gStyle->SetStatX(.89); gStyle->SetStatY(.89);\n",
    "\n",
    "TF1 parabola(\"parabola\",\"[0]+[1]*x+[2]*x**2\",0,20);\n",
    "format_line(&parabola,kBlue,2);\n",
    "\n",
    "TF1 gaussian(\"gaussian\",\"[0]*TMath::Gaus(x,[1],[2])\",0,20);\n",
    "format_line(&gaussian,kRed,2);"
   ]
  },
  {
   "cell_type": "markdown",
   "metadata": {},
   "source": [
    "* Next we define and initialise an instance of TF1."
   ]
  },
  {
   "cell_type": "code",
   "execution_count": 4,
   "metadata": {
    "collapsed": true
   },
   "outputs": [],
   "source": [
    "TF1 gausppar(\"gausppar\",the_gausppar,-0,20,6);\n",
    "double a=15; double b=-1.2; double c=.03;\n",
    "double normal=4; double mean=7; double sigma=1;\n",
    "gausppar.SetParameters(normal,mean,sigma,a,b,c);\n",
    "gausppar.SetParNames(\"Normal\",\"Mean\",\"Sigma\",\"a\",\"b\",\"c\");\n",
    "format_line(&gausppar,kBlue,1);"
   ]
  },
  {
   "cell_type": "markdown",
   "metadata": {},
   "source": [
    "* Followed by the definition and the filling of a histogram."
   ]
  },
  {
   "cell_type": "code",
   "execution_count": 5,
   "metadata": {
    "collapsed": true
   },
   "outputs": [],
   "source": [
    "TH1F histo(\"histo\",\"Signal plus background;X vals;Y Vals\",50,0,20);\n",
    "histo.SetMarkerStyle(8);\n",
    "\n",
    "// Fake the data\n",
    "for (int i=1;i<=5000;++i) histo.Fill(gausppar.GetRandom());"
   ]
  },
  {
   "cell_type": "markdown",
   "metadata": {},
   "source": [
    "* For convenience, the same function as for the generation of the pseudo-data is used in the fit; hence, we need to reset the function parameters. This part of the code is very important for each fit procedure, as it sets the initial values of the fit."
   ]
  },
  {
   "cell_type": "code",
   "execution_count": 6,
   "metadata": {
    "collapsed": true
   },
   "outputs": [],
   "source": [
    "// Reset the parameters before the fit and set\n",
    "// by eye a peak at 6 with an area of more or less 50\n",
    "gausppar.SetParameter(0,50);\n",
    "gausppar.SetParameter(1,6);\n",
    "int npar=gausppar.GetNpar();\n",
    "for (int ipar=2;ipar<npar;++ipar) gausppar.SetParameter(ipar,1);"
   ]
  },
  {
   "cell_type": "markdown",
   "metadata": {},
   "source": [
    "* Next a very simple command, well known by now: fit the function to the histogram."
   ]
  },
  {
   "cell_type": "code",
   "execution_count": 7,
   "metadata": {
    "collapsed": false
   },
   "outputs": [
    {
     "name": "stdout",
     "output_type": "stream",
     "text": [
      " FCN=42.0305 FROM MIGRAD    STATUS=CONVERGED    1207 CALLS        1208 TOTAL\n",
      "                     EDM=5.17306e-07    STRATEGY= 1  ERROR MATRIX UNCERTAINTY   2.2 per cent\n",
      "  EXT PARAMETER                                   STEP         FIRST   \n",
      "  NO.   NAME      VALUE            ERROR          SIZE      DERIVATIVE \n",
      "   1  Normal       5.78269e+01   7.94068e+00   5.77561e-02   4.28977e-05\n",
      "   2  Mean         7.01009e+00   1.35383e-01  -3.22514e-04   7.29243e-05\n",
      "   3  Sigma        9.23834e-01   1.57793e-01  -2.59746e-04   2.77085e-03\n",
      "   4  a            2.00626e+02   5.50591e+00   2.33533e-03  -2.57315e-04\n",
      "   5  b           -1.67332e+01   1.03021e+00  -1.03565e-04   1.76478e-04\n",
      "   6  c            4.43814e-01   4.63690e-02  -4.30880e-05   2.61849e-02\n"
     ]
    }
   ],
   "source": [
    "// perform fit ...\n",
    "auto fitResPtr = histo.Fit(&gausppar, \"S\");"
   ]
  },
  {
   "cell_type": "markdown",
   "metadata": {},
   "source": [
    "* We then retrieve the output from the fit. Here, we simply print the fit result and access and print the covariance matrix of the parameters."
   ]
  },
  {
   "cell_type": "code",
   "execution_count": 8,
   "metadata": {
    "collapsed": false
   },
   "outputs": [
    {
     "name": "stdout",
     "output_type": "stream",
     "text": [
      "\n",
      "****************************************\n",
      "Minimizer is Minuit / Migrad\n",
      "Chi2                      =      42.0305\n",
      "NDf                       =           44\n",
      "Edm                       =  5.17306e-07\n",
      "NCalls                    =         1208\n",
      "Normal                    =      57.8269   +/-   7.94068     \n",
      "Mean                      =      7.01009   +/-   0.135383    \n",
      "Sigma                     =     0.923834   +/-   0.157793    \n",
      "a                         =      200.626   +/-   5.50591     \n",
      "b                         =     -16.7332   +/-   1.03021     \n",
      "c                         =     0.443814   +/-   0.046369    \n",
      "\n",
      "6x6 matrix is as follows\n",
      "\n",
      "     |      0    |      1    |      2    |      3    |      4    |\n",
      "----------------------------------------------------------------------\n",
      "   0 |      63.05     0.08809     -0.5976      -2.663     -0.3044 \n",
      "   1 |    0.08809     0.01833   -0.005144      0.1111    -0.01496 \n",
      "   2 |    -0.5976   -0.005144      0.0249     -0.1629   -0.009859 \n",
      "   3 |     -2.663      0.1111     -0.1629       30.32      -4.738 \n",
      "   4 |    -0.3044    -0.01496   -0.009859      -4.738       1.061 \n",
      "   5 |    0.02711   0.0004654    0.001147      0.1721    -0.04605 \n",
      "\n",
      "\n",
      "     |      5    |\n",
      "----------------------------------------------------------------------\n",
      "   0 |    0.02711 \n",
      "   1 |  0.0004654 \n",
      "   2 |   0.001147 \n",
      "   3 |     0.1721 \n",
      "   4 |   -0.04605 \n",
      "   5 |    0.00215 \n",
      "\n"
     ]
    }
   ],
   "source": [
    "// ... and retrieve fit results\n",
    "fitResPtr->Print(); // print fit results\n",
    "// get covariance Matrix an print it\n",
    "TMatrixDSym covMatrix (fitResPtr->GetCovarianceMatrix());\n",
    "covMatrix.Print();\n",
    "\n",
    "// Set the values of the gaussian and parabola\n",
    "for (int ipar=0;ipar<3;ipar++){\n",
    "    gaussian.SetParameter(ipar,gausppar.GetParameter(ipar));\n",
    "    parabola.SetParameter(ipar,gausppar.GetParameter(ipar+3));\n",
    "}"
   ]
  },
  {
   "cell_type": "markdown",
   "metadata": {},
   "source": [
    "* Finally we plot the pseudo-data, the fitted function and the signal and background components at the best-fit values."
   ]
  },
  {
   "cell_type": "code",
   "execution_count": 9,
   "metadata": {
    "collapsed": false
   },
   "outputs": [
    {
     "data": {
      "image/png": "[encoded data removed]",
      "text/plain": [
       "<IPython.core.display.Image object>"
      ]
     },
     "metadata": {},
     "output_type": "display_data"
    }
   ],
   "source": [
    "histo.GetYaxis()->SetRangeUser(0,250);\n",
    "histo.DrawClone(\"PE\");\n",
    "parabola.DrawClone(\"Same\"); gaussian.DrawClone(\"Same\");\n",
    "TLatex latex(2,220,\"#splitline{Signal Peak over}{background}\");\n",
    "latex.DrawClone(\"Same\");\n",
    "canvas_6_1->Draw();\n",
    "return 0;"
   ]
  },
  {
   "cell_type": "markdown",
   "metadata": {},
   "source": [
    "Fit of pseudo data: a signal shape over a background trend. This plot is another example of how making a plot “self-explanatory” can help you better displaying your results.\n",
    "\n",
    "## 6.2 Toy Monte Carlo Experiments\n",
    "Let us look at a simple example of a toy experiment comparing two methods to fit a function to a histogram, the \\\\\\(\\\\chi\\^\\{2\\}\\\\\\)\n",
    "\n",
    "method and a method called “binned log-likelihood fit”, both available in ROOT.\n",
    "\n",
    "As a very simple yet powerful quantity to check the quality of the fit results, we construct for each pseudo-data set the so-called “pull”, the difference of the estimated and the true value of a parameter, normalised to the estimated error on the parameter, \\\\\\(\\\\frac\\{\\(p\\_\\{estim\\} \\- p\\_\\{true\\}\\)\\}\\{\\\\sigma\\_\\{p\\}\\}\\\\\\). If everything is OK, the distribution of the pull values is a standard normal distribution, i.e. a Gaussian distribution centred around zero with a standard deviation of one.\n",
    "\n",
    "The macro performs a rather big number of toy experiments, where a histogram is repeatedly filled with Gaussian distributed numbers, representing the pseudo-data in this example. Each time, a fit is performed according to the selected method, and the pull is calculated and filled into a histogram. Here is the code:"
   ]
  },
  {
   "cell_type": "code",
   "execution_count": 10,
   "metadata": {
    "collapsed": false
   },
   "outputs": [],
   "source": [
    "%%cpp -d\n",
    "// Toy Monte Carlo example.\n",
    "// Check pull distribution to compare chi2 and binned\n",
    "// log-likelihood methods.\n",
    "\n",
    "void pull( int n_toys = 10000,\n",
    "    int n_tot_entries = 100,\n",
    "    int nbins = 40,\n",
    "    bool do_chi2=true ){\n",
    "\n",
    "    TString method_prefix(\"Log-Likelihood \");\n",
    "    if (do_chi2)\n",
    "        method_prefix=\"#chi^{2} \";\n",
    "\n",
    "    // Create histo\n",
    "    TH1F h4(method_prefix+\"h4\",\n",
    "            method_prefix+\" Random Gauss\",\n",
    "            nbins,-4,4);\n",
    "    h4.SetMarkerStyle(21);\n",
    "    h4.SetMarkerSize(0.8);\n",
    "    h4.SetMarkerColor(kRed);\n",
    "\n",
    "    // Histogram for sigma and pull\n",
    "    TH1F sigma(method_prefix+\"sigma\",\n",
    "               method_prefix+\"sigma from gaus fit\",\n",
    "               50,0.5,1.5);\n",
    "    TH1F pull(method_prefix+\"pull\",\n",
    "              method_prefix+\"pull from gaus fit\",\n",
    "              50,-4.,4.);\n",
    "    // Make a nice devided canvas\n",
    "    auto *canvas_6_2 = new TCanvas(method_prefix+\"canvas_6_2\",method_prefix+\"canvas_6_2\",800,400);\n",
    "    canvas_6_2->Divide(2,1);\n",
    "    canvas_6_2->cd(1);canvas_6_2->SetGrid();\n",
    "    \n",
    "    \n",
    "    float sig, mean;\n",
    "    for (int i=0; i<n_toys; i++){\n",
    "     // Reset histo contents\n",
    "        h4.Reset();\n",
    "     // Fill histo\n",
    "        for ( int j = 0; j<n_tot_entries; j++ )\n",
    "        h4.Fill(gRandom->Gaus());\n",
    "     // perform fit\n",
    "        if (do_chi2) h4.Fit(\"gaus\",\"q\"); // Chi2 fit\n",
    "        else h4.Fit(\"gaus\",\"lq\"); // Likelihood fit\n",
    "     // some control output on the way\n",
    "        if (!(i%100)){\n",
    "            h4.Draw(\"ep\");\n",
    "            canvas_6_2->Update();\n",
    "        }\n",
    "\n",
    "     // Get sigma from fit\n",
    "        TF1 *fit = h4.GetFunction(\"gaus\");\n",
    "        sig = fit->GetParameter(2);\n",
    "        mean= fit->GetParameter(1);\n",
    "        sigma.Fill(sig);\n",
    "        pull.Fill(mean/sig * sqrt(n_tot_entries));\n",
    "       } // end of toy MC loop \n",
    "       h4.DrawClone(\"ep\");\n",
    "        canvas_6_2->Draw();\n",
    "        canvas_6_2->cd(2);\n",
    "     // print result\n",
    "        pull.DrawClone();\n",
    "        canvas_6_2->Draw();\n",
    "    \n",
    "}"
   ]
  },
  {
   "cell_type": "code",
   "execution_count": 11,
   "metadata": {
    "collapsed": false,
    "scrolled": false
   },
   "outputs": [
    {
     "name": "stdout",
     "output_type": "stream",
     "text": [
      "Performing Pull Experiment with chi2 \n",
      "Performing Pull Experiment with Log Likelihood\n"
     ]
    },
    {
     "data": {
      "image/png": "[encoded data removed]",
      "text/plain": [
       "<IPython.core.display.Image object>"
      ]
     },
     "metadata": {},
     "output_type": "display_data"
    },
    {
     "data": {
      "image/png": "[encoded data removed]",
      "text/plain": [
       "<IPython.core.display.Image object>"
      ]
     },
     "metadata": {},
     "output_type": "display_data"
    }
   ],
   "source": [
    "int n_toys=10000;\n",
    "int n_tot_entries=100;\n",
    "int n_bins=40;\n",
    "cout << \"Performing Pull Experiment with chi2 \\n\";\n",
    "pull(n_toys,n_tot_entries,n_bins,true);\n",
    "cout << \"Performing Pull Experiment with Log Likelihood\\n\";\n",
    "pull(n_toys,n_tot_entries,n_bins,false);"
   ]
  },
  {
   "cell_type": "markdown",
   "metadata": {},
   "source": [
    "Your present knowledge of ROOT should be enough to understand all the technicalities behind the macro. Note that the variable pull in line 61 is different from the definition above: instead of the parameter error on mean, the fitted standard deviation of the distribution divided by the square root of the number of entries, ```sig/sqrt(n_tot_entries)```, is used.\n",
    "\n",
    "* What method exhibits the better performance with the default parameters?\n",
    "\n",
    "* What happens if you increase the number of entries per histogram by a factor of ten? Why?\n",
    "\n",
    "The answers to these questions are well beyond the scope of this guide. Basically all books about statistical methods provide a complete treatment of the aforementioned topics."
   ]
  }
 ],
 "metadata": {
  "kernelspec": {
   "display_name": "ROOT C++",
   "language": "c++",
   "name": "root"
  },
  "language_info": {
   "codemirror_mode": "text/x-c++src",
   "file_extension": ".C",
   "mimetype": " text/x-c++src",
   "name": "c++"
  }
 },
 "nbformat": 4,
 "nbformat_minor": 0
}
