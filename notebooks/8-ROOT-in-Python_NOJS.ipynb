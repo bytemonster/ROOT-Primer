{
 "cells": [
  {
   "cell_type": "markdown",
   "metadata": {},
   "source": [
    "ROOT offers the possibility to interface to Python via a set of bindings called PyROOT. Python is used in a wide variety of application areas and one of the most used scripting languages today. With the help of PyROOT it becomes possible to combine the power of a scripting language with ROOT tools. Introductory material to Python is available from many sources on the web, see e. g. http://docs.python.org.\n",
    "\n",
    "## 8.1 PyROOT\n",
    "The access to ROOT classes and their methods in PyROOT is almost identical to C++ macros, except for the special language features of Python, most importantly dynamic type declaration at the time of assignment. Coming back to our first example, simply plotting a function in ROOT, the following C++ code:\n",
    "\n",
    "    TF1 *f1 = new TF1(\"f2\",\"[0]*sin([1]*x)/x\",0.,10.);\n",
    "    f1->SetParameter(0,1);\n",
    "    f1->SetParameter(1,1);\n",
    "    f1->Draw();\n",
    "\n",
    "in Python becomes:"
   ]
  },
  {
   "cell_type": "code",
   "execution_count": 1,
   "metadata": {},
   "outputs": [],
   "source": [
    "import ROOT"
   ]
  },
  {
   "cell_type": "code",
   "execution_count": 2,
   "metadata": {},
   "outputs": [],
   "source": [
    "%jsroot on"
   ]
  },
  {
   "cell_type": "code",
   "execution_count": 3,
   "metadata": {},
   "outputs": [],
   "source": [
    "#from ROOT import gStyle, TCanvas, TGraphErrors\n",
    "canvas_8_1=ROOT.TCanvas(\"canvas_8_1\" ,\"Data\" ,200 ,10 ,700 ,500)\n",
    "f1 = ROOT.TF1(\"f2\",\"[0]*sin([1]*x)/x\",0.,10.)\n",
    "f1.SetParameter(0,1);\n",
    "f1.SetParameter(1,1);\n",
    "f1.Draw();\n",
    "canvas_8_1.Draw();"
   ]
  },
  {
   "cell_type": "markdown",
   "metadata": {},
   "source": [
    "A slightly more advanced example hands over data defined in the macro to the ROOT class TGraphErrors. Note that a Python array can be used to pass data between Python and ROOT. The first line in the Python script allows it to be executed directly from the operating system, without the need to start the script from python or the highly recommended powerful interactive shell ipython. The last line in the python script is there to allow you to have a look at the graphical output in the ROOT canvas before it disappears upon termination of the script.\n",
    "\n",
    "Here is the C++ version:"
   ]
  },
  {
   "cell_type": "code",
   "execution_count": 4,
   "metadata": {},
   "outputs": [],
   "source": [
    "%%cpp\n",
    "//\n",
    "// Draw a graph with error bars and fit a function to it\n",
    "//\n",
    "gStyle->SetOptFit(111) ; //superimpose fit results\n",
    "// make nice Canvas\n",
    "auto *c1 = new TCanvas(\"c1\" ,\"Daten\" ,200 ,10 ,700 ,500) ;\n",
    "c1->SetGrid( ) ;\n",
    "//define some data points ...\n",
    "const Int_t n = 10;\n",
    "Float_t x[n] = {-0.22, 0.1, 0.25, 0.35, 0.5, 0.61, 0.7, 0.85, 0.89, 1.1};\n",
    "Float_t y[n] = {0.7, 2.9, 5.6, 7.4, 9., 9.6, 8.7, 6.3, 4.5, 1.1};\n",
    "Float_t ey[n] = {.8 ,.7 ,.6 ,.5 ,.4 ,.4 ,.5 ,.6 ,.7 ,.8};\n",
    "Float_t ex[n] = {.05 ,.1 ,.07 ,.07 ,.04 ,.05 ,.06 ,.07 ,.08 ,.05};\n",
    "// and hand over to TGraphErros object\n",
    "TGraphErrors *gr = new TGraphErrors(n,x,y,ex,ey);\n",
    "gr->SetTitle(\"TGraphErrors with Fit\") ;\n",
    "gr->DrawClone(\"AP\");\n",
    "// now perform a fit (with errors in x and y!)\n",
    "gr->Fit(\"gaus\");\n",
    "c1->Draw();"
   ]
  },
  {
   "cell_type": "markdown",
   "metadata": {},
   "source": [
    "In Python it looks like this:"
   ]
  },
  {
   "cell_type": "code",
   "execution_count": 5,
   "metadata": {},
   "outputs": [],
   "source": [
    "#\n",
    "# Draw a graph with error bars and fit a function to it\n",
    "#\n",
    "from ROOT import gStyle, TCanvas, TGraphErrors\n",
    "from array import array\n",
    "gStyle.SetOptFit (111) # superimpose fit results\n",
    "canvas_8_1.SetGrid ()\n",
    "#define some data points . . .\n",
    "x = array('f', (-0.22, 0.1, 0.25, 0.35, 0.5, 0.61, 0.7, 0.85, 0.89, 1.1) )\n",
    "y = array('f', (0.7, 2.9, 5.6, 7.4, 9., 9.6, 8.7, 6.3, 4.5, 1.1) )\n",
    "ey = array('f', (.8 ,.7 ,.6 ,.5 ,.4 ,.4 ,.5 ,.6 ,.7 ,.8) )\n",
    "ex = array('f', (.05 ,.1 ,.07 ,.07 ,.04 ,.05 ,.06 ,.07 ,.08 ,.05) )\n",
    "nPoints=len ( x )\n",
    "# . . . and hand over to TGraphErros object\n",
    "gr=TGraphErrors ( nPoints , x , y , ex , ey )\n",
    "gr.SetTitle(\"TGraphErrors with Fit\")\n",
    "gr.Draw ( \"AP\" ) \n",
    "gr.Fit(\"gaus\") \n",
    "canvas_8_1.Update () \n",
    "canvas_8_1.Draw () "
   ]
  },
  {
   "cell_type": "markdown",
   "metadata": {},
   "source": [
    "Comparing the C++ and Python versions in these two examples, it now should be clear how easy it is to convert any ROOT Macro in C++ to a Python version.\n",
    "\n",
    "As another example, let us revisit macro3 from Chapter 4. A straight-forward Python version relying on the ROOT class ```TMath```:"
   ]
  },
  {
   "cell_type": "code",
   "execution_count": 6,
   "metadata": {},
   "outputs": [],
   "source": [
    "# Builds a polar graph in a square Canvas.\n",
    "\n",
    "from ROOT import TGraphPolar, TCanvas, TMath\n",
    "from array import array\n",
    "\n",
    "canvas_8_1_sq = TCanvas(\"canvas_8_1_sq\",\"myCanvas\",600,600)\n",
    "rmin = 0.\n",
    "rmax = TMath.Pi()*6.\n",
    "npoints = 300\n",
    "r = array('d',[0]*npoints)\n",
    "theta  = array('d',[0]*npoints)\n",
    "for ipt in xrange(0,npoints):\n",
    "    r[ipt] = ipt*(rmax-rmin)/npoints+rmin\n",
    "    theta[ipt] = TMath.Sin(r[ipt])\n",
    "\n",
    "grP1 = TGraphPolar(npoints,r,theta)\n",
    "grP1.SetTitle(\"A Fan\")\n",
    "grP1.SetLineWidth(3)\n",
    "grP1.SetLineColor(2)\n",
    "grP1.DrawClone(\"L\")\n",
    "grP1.Draw()\n",
    "canvas_8_1_sq.Draw()\n"
   ]
  },
  {
   "cell_type": "markdown",
   "metadata": {},
   "source": [
    "### 8.1.1 More Python- less C++\n",
    "\n",
    "You may have noticed already that there are some Python modules providing functionality similar to ROOT classes, which fit more seamlessly into your Python code.\n",
    "\n",
    "A more “pythonic” version of the above macro3 would use a replacement of the ROOT class TMath for the provisoining of data to TGraphPolar. With the math package, the part of the code becomes\n",
    "\n",
    "    import math\n",
    "    from array import array\n",
    "    from ROOT import TCanvas , TGraphPolar\n",
    "    ...\n",
    "    ipt=range(0,npoints)\n",
    "    r=array('d',map(lambda x: x*(rmax-rmin)/(npoints-1.)+rmin,ipt))\n",
    "    theta=array('d',map(math.sin,r))\n",
    "    e=array('d',npoints*[0.])\n",
    "    ...\n",
    "\n",
    "#### 8.1.1.1 Customised Binning\n",
    "\n",
    "This example combines comfortable handling of arrays in Python to define variable bin sizes of a ROOT histogram. All we need to know is the interface of the relevant ROOT class and its methods (from the ROOT documentation):\n",
    "\n",
    "    TH1F(const char* name , const char* title , Int_t nbinsx , const Double_t* xbins)\n",
    "\n",
    "Here is the Python code:"
   ]
  },
  {
   "cell_type": "code",
   "execution_count": 7,
   "metadata": {},
   "outputs": [],
   "source": [
    "import ROOT\n",
    "from array import array\n",
    "canvas_8_1_1 = TCanvas(\"canvas_8_1_1\",\"myCanvas\")\n",
    "arrBins = array('d' ,(1 ,4 ,9 ,16) ) # array of bin edges\n",
    "histogram_8_1 = ROOT.TH1F(\"histogram_8_1\", \"histogram_8_1\", len(arrBins)-1, arrBins)\n",
    "# fill it with equally spaced numbers\n",
    "for i in range (1 ,16) :\n",
    "   histogram_8_1.Fill(i)\n",
    "histogram_8_1.Draw ()\n",
    "canvas_8_1_1.Draw ()"
   ]
  },
  {
   "cell_type": "markdown",
   "metadata": {},
   "source": [
    "## 8.2 Custom code: from C++ to Python\n",
    "\n",
    "The ROOT interpreter and type sytem offer interesting possibilities when it comes to JITting of C++ code. Take for example this header file, containing a class and a function.\n",
    "\n",
    "    ##file cpp2pythonExample.h\n",
    "    #include \"stdio.h\"\n",
    "\n",
    "    class A{\n",
    "    public:\n",
    "     A(int i):m_i(i){}\n",
    "     int getI() const {return m_i;}\n",
    "    private:\n",
    "     int m_i=0;\n",
    "    };\n",
    "\n",
    "    void printA(const A& a ){\n",
    "      printf (\"The value of A instance is %i.\\n\",a.getI());\n",
    "    }\n",
    "    \n",
    "This example might seem trivial, but it shows a powerful ROOT feature. C++ code can be JITted within PyROOT and the entities defined in C++ can be transparently used in Python!\n",
    "\n",
    "    >>> import ROOT\n",
    "    >>> ROOT.gInterpreter.ProcessLine('#include \"cpp2pythonExample.h\"')\n",
    "    >>> a = ROOT.A(123)\n",
    "    >>> ROOT.printA(a)\n",
    "    The value of A instance is 123."
   ]
  }
 ],
 "metadata": {
  "kernelspec": {
   "display_name": "Python 2",
   "language": "python",
   "name": "python2"
  },
  "language_info": {
   "codemirror_mode": {
    "name": "ipython",
    "version": 2
   },
   "file_extension": ".py",
   "mimetype": "text/x-python",
   "name": "python",
   "nbconvert_exporter": "python",
   "pygments_lexer": "ipython2",
   "version": "2.7.11"
  }
 },
 "nbformat": 4,
 "nbformat_minor": 0
}
