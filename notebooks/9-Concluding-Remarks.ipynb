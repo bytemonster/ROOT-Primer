{
 "cells": [
  {
   "cell_type": "markdown",
   "metadata": {},
   "source": [
    "# 9 Concluding Remarks\n",
    "This is the end of our guided tour for beginners through ROOT. There is still a lot to be said, though by now you are experienced enough to use the ROOT documentation, most importantly the [ROOT home page](https://root.cern.ch) and the [ROOT reference guide](https://root.cern.ch/guides/reference-guide) with the documentation of all ROOT classes, or the [ROOT users guide](https://root.cern.ch/guides/users-guide).\n",
    "\n",
    "A very useful way for you to continue exploring ROOT is to study the examples in the sub-directory ```tutorials/``` of any ROOT installation.\n",
    "\n",
    "There are some powerful features of ROOT which were not treated in this document, e.g. packages named RooFit and RooStats providing an advanced framework for model building, fitting and statistical analysis. The ROOT namespace ```TMVA``` offers multi-variate analysis tools including an artificial neural network and many other advanced tools for classification problems. The remarkable ability of ROOT to handle large data volumes was already mentioned in this guide, implemented through the class ```TTree```. But there is still much more for you to explore!\n",
    "\n",
    "**End of this guide … but hopefully not of your interaction with ROOT !**\n",
    "\n",
    "## 9.1 References\n",
    "\n",
    "Matsumoto, Makoto. 1997. “Mersenne Twister Home Page.” http://www.math.sci.hiroshima-u.ac.jp/~m-mat/MT/emt.html.\n",
    "\n",
    "Silin, I.N. 1983. “FUMILI.” CERN Program Library d510.\n",
    "\n",
    "The ROOT Reference Guide. 2013. http://root.cern.ch/drupal/content/reference-guide.\n",
    "\n",
    "The ROOT Users Guide. 2015. http://root.cern.ch/drupal/content/users-guide.\n",
    "\n",
    "“What Is Cling.” 2015. https://root.cern.ch/drupal/content/cling."
   ]
  },
  {
   "cell_type": "markdown",
   "metadata": {
    "collapsed": false,
    "remove": true,
    "truseted": true
   },
   "source": [
    "### ROOT-Primer Navigator\n",
    "\n",
    "<p id=\"nav-felt\" style=\"possition:relative; width:50%; float:left;\"><a href=\"8-ROOT-in-Python.ipynb\">&lt;&lt; Previous Chapter 8 ROOT in Python </a></p>"
   ]
  }
 ],
 "metadata": {
  "kernelspec": {
   "display_name": "Python 2",
   "language": "python",
   "name": "python2"
  },
  "language_info": {
   "codemirror_mode": {
    "name": "ipython",
    "version": 2
   },
   "file_extension": ".py",
   "mimetype": "text/x-python",
   "name": "python",
   "nbconvert_exporter": "python",
   "pygments_lexer": "ipython2",
   "version": "2.7.11"
  }
 },
 "nbformat": 4,
 "nbformat_minor": 0
}
